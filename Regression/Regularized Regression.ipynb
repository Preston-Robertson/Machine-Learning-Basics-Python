{
 "cells": [
  {
   "cell_type": "code",
   "execution_count": 1,
   "metadata": {},
   "outputs": [],
   "source": [
    "# Regularized Regression\n",
    "import numpy as np\n",
    "import matplotlib.pyplot as plt\n",
    "import seaborn as sns\n",
    "import pandas as pd\n",
    "from sklearn.linear_model import LinearRegression\n",
    "from sklearn.model_selection import train_test_split\n",
    "from sklearn.metrics import r2_score\n",
    "\n",
    "import warnings\n",
    "warnings.filterwarnings('ignore')"
   ]
  },
  {
   "cell_type": "markdown",
   "metadata": {},
   "source": [
    "## Dataset:\n",
    "The dataset for this exercise is obtained from this link: \n",
    "\n",
    "https://open.canada.ca/data/en/dataset/98f1a129-f628-4ce4-b24d-6f16bf24dd64 \n",
    "\n",
    "**File Name**: 2021 Fuel Consumption Ratings (2021-09-29)"
   ]
  },
  {
   "cell_type": "code",
   "execution_count": 2,
   "metadata": {},
   "outputs": [],
   "source": [
    "# Import the dataset:\n",
    "df_full = pd.read_csv('FuelConsumption.csv')"
   ]
  },
  {
   "cell_type": "code",
   "execution_count": 3,
   "metadata": {},
   "outputs": [
    {
     "data": {
      "text/html": [
       "<div>\n",
       "<style scoped>\n",
       "    .dataframe tbody tr th:only-of-type {\n",
       "        vertical-align: middle;\n",
       "    }\n",
       "\n",
       "    .dataframe tbody tr th {\n",
       "        vertical-align: top;\n",
       "    }\n",
       "\n",
       "    .dataframe thead th {\n",
       "        text-align: right;\n",
       "    }\n",
       "</style>\n",
       "<table border=\"1\" class=\"dataframe\">\n",
       "  <thead>\n",
       "    <tr style=\"text-align: right;\">\n",
       "      <th></th>\n",
       "      <th>Year</th>\n",
       "      <th>Make</th>\n",
       "      <th>Model</th>\n",
       "      <th>Vehicle Class</th>\n",
       "      <th>Engine Size</th>\n",
       "      <th>Cylinders</th>\n",
       "      <th>Transmission</th>\n",
       "      <th>FuelType</th>\n",
       "      <th>FuelConsumptionCity(L)</th>\n",
       "      <th>FuelConsumptionHwy(L)</th>\n",
       "      <th>FuelConsumptionComb(L)</th>\n",
       "      <th>FuelConsumptionComb(mpg)</th>\n",
       "      <th>CO2Emissions</th>\n",
       "      <th>CO2Rating</th>\n",
       "      <th>SmogRating</th>\n",
       "    </tr>\n",
       "  </thead>\n",
       "  <tbody>\n",
       "    <tr>\n",
       "      <th>0</th>\n",
       "      <td>2021</td>\n",
       "      <td>Acura</td>\n",
       "      <td>ILX</td>\n",
       "      <td>Compact</td>\n",
       "      <td>2.4</td>\n",
       "      <td>4</td>\n",
       "      <td>AM8</td>\n",
       "      <td>Z</td>\n",
       "      <td>9.9</td>\n",
       "      <td>7.0</td>\n",
       "      <td>8.6</td>\n",
       "      <td>33</td>\n",
       "      <td>199</td>\n",
       "      <td>6</td>\n",
       "      <td>3</td>\n",
       "    </tr>\n",
       "    <tr>\n",
       "      <th>1</th>\n",
       "      <td>2021</td>\n",
       "      <td>Acura</td>\n",
       "      <td>NSX</td>\n",
       "      <td>Two-seater</td>\n",
       "      <td>3.5</td>\n",
       "      <td>6</td>\n",
       "      <td>AM9</td>\n",
       "      <td>Z</td>\n",
       "      <td>11.1</td>\n",
       "      <td>10.8</td>\n",
       "      <td>11.0</td>\n",
       "      <td>26</td>\n",
       "      <td>256</td>\n",
       "      <td>4</td>\n",
       "      <td>3</td>\n",
       "    </tr>\n",
       "    <tr>\n",
       "      <th>2</th>\n",
       "      <td>2021</td>\n",
       "      <td>Acura</td>\n",
       "      <td>RDX SH-AWD</td>\n",
       "      <td>SUV: Small</td>\n",
       "      <td>2.0</td>\n",
       "      <td>4</td>\n",
       "      <td>AS10</td>\n",
       "      <td>Z</td>\n",
       "      <td>11.0</td>\n",
       "      <td>8.6</td>\n",
       "      <td>9.9</td>\n",
       "      <td>29</td>\n",
       "      <td>232</td>\n",
       "      <td>5</td>\n",
       "      <td>6</td>\n",
       "    </tr>\n",
       "    <tr>\n",
       "      <th>3</th>\n",
       "      <td>2021</td>\n",
       "      <td>Acura</td>\n",
       "      <td>RDX SH-AWD A-SPEC</td>\n",
       "      <td>SUV: Small</td>\n",
       "      <td>2.0</td>\n",
       "      <td>4</td>\n",
       "      <td>AS10</td>\n",
       "      <td>Z</td>\n",
       "      <td>11.3</td>\n",
       "      <td>9.1</td>\n",
       "      <td>10.3</td>\n",
       "      <td>27</td>\n",
       "      <td>242</td>\n",
       "      <td>5</td>\n",
       "      <td>6</td>\n",
       "    </tr>\n",
       "    <tr>\n",
       "      <th>4</th>\n",
       "      <td>2021</td>\n",
       "      <td>Acura</td>\n",
       "      <td>TLX SH-AWD</td>\n",
       "      <td>Compact</td>\n",
       "      <td>2.0</td>\n",
       "      <td>4</td>\n",
       "      <td>AS10</td>\n",
       "      <td>Z</td>\n",
       "      <td>11.2</td>\n",
       "      <td>8.0</td>\n",
       "      <td>9.8</td>\n",
       "      <td>29</td>\n",
       "      <td>230</td>\n",
       "      <td>5</td>\n",
       "      <td>7</td>\n",
       "    </tr>\n",
       "  </tbody>\n",
       "</table>\n",
       "</div>"
      ],
      "text/plain": [
       "   Year   Make              Model Vehicle Class  Engine Size  Cylinders  \\\n",
       "0  2021  Acura                ILX       Compact          2.4          4   \n",
       "1  2021  Acura                NSX    Two-seater          3.5          6   \n",
       "2  2021  Acura         RDX SH-AWD    SUV: Small          2.0          4   \n",
       "3  2021  Acura  RDX SH-AWD A-SPEC    SUV: Small          2.0          4   \n",
       "4  2021  Acura         TLX SH-AWD       Compact          2.0          4   \n",
       "\n",
       "  Transmission FuelType  FuelConsumptionCity(L)  FuelConsumptionHwy(L)  \\\n",
       "0          AM8        Z                     9.9                    7.0   \n",
       "1          AM9        Z                    11.1                   10.8   \n",
       "2         AS10        Z                    11.0                    8.6   \n",
       "3         AS10        Z                    11.3                    9.1   \n",
       "4         AS10        Z                    11.2                    8.0   \n",
       "\n",
       "   FuelConsumptionComb(L)  FuelConsumptionComb(mpg)  CO2Emissions  CO2Rating  \\\n",
       "0                     8.6                        33           199          6   \n",
       "1                    11.0                        26           256          4   \n",
       "2                     9.9                        29           232          5   \n",
       "3                    10.3                        27           242          5   \n",
       "4                     9.8                        29           230          5   \n",
       "\n",
       "   SmogRating  \n",
       "0           3  \n",
       "1           3  \n",
       "2           6  \n",
       "3           6  \n",
       "4           7  "
      ]
     },
     "execution_count": 3,
     "metadata": {},
     "output_type": "execute_result"
    }
   ],
   "source": [
    "df_full.head()"
   ]
  },
  {
   "cell_type": "code",
   "execution_count": 4,
   "metadata": {},
   "outputs": [
    {
     "data": {
      "text/html": [
       "<div>\n",
       "<style scoped>\n",
       "    .dataframe tbody tr th:only-of-type {\n",
       "        vertical-align: middle;\n",
       "    }\n",
       "\n",
       "    .dataframe tbody tr th {\n",
       "        vertical-align: top;\n",
       "    }\n",
       "\n",
       "    .dataframe thead th {\n",
       "        text-align: right;\n",
       "    }\n",
       "</style>\n",
       "<table border=\"1\" class=\"dataframe\">\n",
       "  <thead>\n",
       "    <tr style=\"text-align: right;\">\n",
       "      <th></th>\n",
       "      <th>Year</th>\n",
       "      <th>Make</th>\n",
       "      <th>Model</th>\n",
       "      <th>Vehicle Class</th>\n",
       "      <th>Engine Size</th>\n",
       "      <th>Cylinders</th>\n",
       "      <th>Transmission</th>\n",
       "      <th>FuelType</th>\n",
       "      <th>FuelConsumptionCity(L)</th>\n",
       "      <th>FuelConsumptionHwy(L)</th>\n",
       "      <th>FuelConsumptionComb(L)</th>\n",
       "      <th>FuelConsumptionComb(mpg)</th>\n",
       "      <th>CO2Emissions</th>\n",
       "      <th>CO2Rating</th>\n",
       "      <th>SmogRating</th>\n",
       "    </tr>\n",
       "  </thead>\n",
       "  <tbody>\n",
       "    <tr>\n",
       "      <th>930</th>\n",
       "      <td>2021</td>\n",
       "      <td>Volvo</td>\n",
       "      <td>XC40 T5 AWD</td>\n",
       "      <td>SUV: Small</td>\n",
       "      <td>2.0</td>\n",
       "      <td>4</td>\n",
       "      <td>AS8</td>\n",
       "      <td>Z</td>\n",
       "      <td>10.7</td>\n",
       "      <td>7.7</td>\n",
       "      <td>9.4</td>\n",
       "      <td>30</td>\n",
       "      <td>219</td>\n",
       "      <td>5</td>\n",
       "      <td>5</td>\n",
       "    </tr>\n",
       "    <tr>\n",
       "      <th>931</th>\n",
       "      <td>2021</td>\n",
       "      <td>Volvo</td>\n",
       "      <td>XC60 T5 AWD</td>\n",
       "      <td>SUV: Small</td>\n",
       "      <td>2.0</td>\n",
       "      <td>4</td>\n",
       "      <td>AS8</td>\n",
       "      <td>Z</td>\n",
       "      <td>11.1</td>\n",
       "      <td>8.3</td>\n",
       "      <td>9.9</td>\n",
       "      <td>29</td>\n",
       "      <td>230</td>\n",
       "      <td>5</td>\n",
       "      <td>5</td>\n",
       "    </tr>\n",
       "    <tr>\n",
       "      <th>932</th>\n",
       "      <td>2021</td>\n",
       "      <td>Volvo</td>\n",
       "      <td>XC60 T6 AWD</td>\n",
       "      <td>SUV: Small</td>\n",
       "      <td>2.0</td>\n",
       "      <td>4</td>\n",
       "      <td>AS8</td>\n",
       "      <td>Z</td>\n",
       "      <td>11.7</td>\n",
       "      <td>8.6</td>\n",
       "      <td>10.3</td>\n",
       "      <td>27</td>\n",
       "      <td>240</td>\n",
       "      <td>5</td>\n",
       "      <td>7</td>\n",
       "    </tr>\n",
       "    <tr>\n",
       "      <th>933</th>\n",
       "      <td>2021</td>\n",
       "      <td>Volvo</td>\n",
       "      <td>XC90 T5 AWD</td>\n",
       "      <td>SUV: Standard</td>\n",
       "      <td>2.0</td>\n",
       "      <td>4</td>\n",
       "      <td>AS8</td>\n",
       "      <td>Z</td>\n",
       "      <td>11.5</td>\n",
       "      <td>8.4</td>\n",
       "      <td>10.1</td>\n",
       "      <td>28</td>\n",
       "      <td>236</td>\n",
       "      <td>5</td>\n",
       "      <td>5</td>\n",
       "    </tr>\n",
       "    <tr>\n",
       "      <th>934</th>\n",
       "      <td>2021</td>\n",
       "      <td>Volvo</td>\n",
       "      <td>XC90 T6 AWD</td>\n",
       "      <td>SUV: Standard</td>\n",
       "      <td>2.0</td>\n",
       "      <td>4</td>\n",
       "      <td>AS8</td>\n",
       "      <td>Z</td>\n",
       "      <td>12.1</td>\n",
       "      <td>8.5</td>\n",
       "      <td>10.5</td>\n",
       "      <td>27</td>\n",
       "      <td>245</td>\n",
       "      <td>5</td>\n",
       "      <td>7</td>\n",
       "    </tr>\n",
       "  </tbody>\n",
       "</table>\n",
       "</div>"
      ],
      "text/plain": [
       "     Year   Make        Model  Vehicle Class  Engine Size  Cylinders  \\\n",
       "930  2021  Volvo  XC40 T5 AWD     SUV: Small          2.0          4   \n",
       "931  2021  Volvo  XC60 T5 AWD     SUV: Small          2.0          4   \n",
       "932  2021  Volvo  XC60 T6 AWD     SUV: Small          2.0          4   \n",
       "933  2021  Volvo  XC90 T5 AWD  SUV: Standard          2.0          4   \n",
       "934  2021  Volvo  XC90 T6 AWD  SUV: Standard          2.0          4   \n",
       "\n",
       "    Transmission FuelType  FuelConsumptionCity(L)  FuelConsumptionHwy(L)  \\\n",
       "930          AS8        Z                    10.7                    7.7   \n",
       "931          AS8        Z                    11.1                    8.3   \n",
       "932          AS8        Z                    11.7                    8.6   \n",
       "933          AS8        Z                    11.5                    8.4   \n",
       "934          AS8        Z                    12.1                    8.5   \n",
       "\n",
       "     FuelConsumptionComb(L)  FuelConsumptionComb(mpg)  CO2Emissions  \\\n",
       "930                     9.4                        30           219   \n",
       "931                     9.9                        29           230   \n",
       "932                    10.3                        27           240   \n",
       "933                    10.1                        28           236   \n",
       "934                    10.5                        27           245   \n",
       "\n",
       "     CO2Rating  SmogRating  \n",
       "930          5           5  \n",
       "931          5           5  \n",
       "932          5           7  \n",
       "933          5           5  \n",
       "934          5           7  "
      ]
     },
     "execution_count": 4,
     "metadata": {},
     "output_type": "execute_result"
    }
   ],
   "source": [
    "df_full.tail()"
   ]
  },
  {
   "cell_type": "code",
   "execution_count": 5,
   "metadata": {},
   "outputs": [
    {
     "data": {
      "text/html": [
       "<div>\n",
       "<style scoped>\n",
       "    .dataframe tbody tr th:only-of-type {\n",
       "        vertical-align: middle;\n",
       "    }\n",
       "\n",
       "    .dataframe tbody tr th {\n",
       "        vertical-align: top;\n",
       "    }\n",
       "\n",
       "    .dataframe thead th {\n",
       "        text-align: right;\n",
       "    }\n",
       "</style>\n",
       "<table border=\"1\" class=\"dataframe\">\n",
       "  <thead>\n",
       "    <tr style=\"text-align: right;\">\n",
       "      <th></th>\n",
       "      <th>Year</th>\n",
       "      <th>Engine Size</th>\n",
       "      <th>Cylinders</th>\n",
       "      <th>FuelConsumptionCity(L)</th>\n",
       "      <th>FuelConsumptionHwy(L)</th>\n",
       "      <th>FuelConsumptionComb(L)</th>\n",
       "      <th>FuelConsumptionComb(mpg)</th>\n",
       "      <th>CO2Emissions</th>\n",
       "      <th>CO2Rating</th>\n",
       "      <th>SmogRating</th>\n",
       "    </tr>\n",
       "  </thead>\n",
       "  <tbody>\n",
       "    <tr>\n",
       "      <th>count</th>\n",
       "      <td>935.0</td>\n",
       "      <td>935.000000</td>\n",
       "      <td>935.000000</td>\n",
       "      <td>935.000000</td>\n",
       "      <td>935.000000</td>\n",
       "      <td>935.000000</td>\n",
       "      <td>935.000000</td>\n",
       "      <td>935.000000</td>\n",
       "      <td>935.000000</td>\n",
       "      <td>935.000000</td>\n",
       "    </tr>\n",
       "    <tr>\n",
       "      <th>mean</th>\n",
       "      <td>2021.0</td>\n",
       "      <td>3.214866</td>\n",
       "      <td>5.716578</td>\n",
       "      <td>12.498610</td>\n",
       "      <td>9.306203</td>\n",
       "      <td>11.060214</td>\n",
       "      <td>27.345455</td>\n",
       "      <td>258.529412</td>\n",
       "      <td>4.357219</td>\n",
       "      <td>4.726203</td>\n",
       "    </tr>\n",
       "    <tr>\n",
       "      <th>std</th>\n",
       "      <td>0.0</td>\n",
       "      <td>1.388513</td>\n",
       "      <td>1.977359</td>\n",
       "      <td>3.487271</td>\n",
       "      <td>2.215819</td>\n",
       "      <td>2.867028</td>\n",
       "      <td>7.730569</td>\n",
       "      <td>64.442768</td>\n",
       "      <td>1.640849</td>\n",
       "      <td>1.712127</td>\n",
       "    </tr>\n",
       "    <tr>\n",
       "      <th>min</th>\n",
       "      <td>2021.0</td>\n",
       "      <td>1.000000</td>\n",
       "      <td>3.000000</td>\n",
       "      <td>4.000000</td>\n",
       "      <td>3.900000</td>\n",
       "      <td>4.000000</td>\n",
       "      <td>11.000000</td>\n",
       "      <td>94.000000</td>\n",
       "      <td>1.000000</td>\n",
       "      <td>1.000000</td>\n",
       "    </tr>\n",
       "    <tr>\n",
       "      <th>25%</th>\n",
       "      <td>2021.0</td>\n",
       "      <td>2.000000</td>\n",
       "      <td>4.000000</td>\n",
       "      <td>10.100000</td>\n",
       "      <td>7.700000</td>\n",
       "      <td>9.100000</td>\n",
       "      <td>22.000000</td>\n",
       "      <td>213.000000</td>\n",
       "      <td>3.000000</td>\n",
       "      <td>3.000000</td>\n",
       "    </tr>\n",
       "    <tr>\n",
       "      <th>50%</th>\n",
       "      <td>2021.0</td>\n",
       "      <td>3.000000</td>\n",
       "      <td>6.000000</td>\n",
       "      <td>12.000000</td>\n",
       "      <td>9.000000</td>\n",
       "      <td>10.700000</td>\n",
       "      <td>26.000000</td>\n",
       "      <td>255.000000</td>\n",
       "      <td>4.000000</td>\n",
       "      <td>5.000000</td>\n",
       "    </tr>\n",
       "    <tr>\n",
       "      <th>75%</th>\n",
       "      <td>2021.0</td>\n",
       "      <td>4.000000</td>\n",
       "      <td>8.000000</td>\n",
       "      <td>14.800000</td>\n",
       "      <td>10.800000</td>\n",
       "      <td>13.100000</td>\n",
       "      <td>31.000000</td>\n",
       "      <td>303.500000</td>\n",
       "      <td>5.000000</td>\n",
       "      <td>6.000000</td>\n",
       "    </tr>\n",
       "    <tr>\n",
       "      <th>max</th>\n",
       "      <td>2021.0</td>\n",
       "      <td>8.000000</td>\n",
       "      <td>16.000000</td>\n",
       "      <td>30.300000</td>\n",
       "      <td>20.900000</td>\n",
       "      <td>26.100000</td>\n",
       "      <td>71.000000</td>\n",
       "      <td>608.000000</td>\n",
       "      <td>10.000000</td>\n",
       "      <td>7.000000</td>\n",
       "    </tr>\n",
       "  </tbody>\n",
       "</table>\n",
       "</div>"
      ],
      "text/plain": [
       "         Year  Engine Size   Cylinders  FuelConsumptionCity(L)  \\\n",
       "count   935.0   935.000000  935.000000              935.000000   \n",
       "mean   2021.0     3.214866    5.716578               12.498610   \n",
       "std       0.0     1.388513    1.977359                3.487271   \n",
       "min    2021.0     1.000000    3.000000                4.000000   \n",
       "25%    2021.0     2.000000    4.000000               10.100000   \n",
       "50%    2021.0     3.000000    6.000000               12.000000   \n",
       "75%    2021.0     4.000000    8.000000               14.800000   \n",
       "max    2021.0     8.000000   16.000000               30.300000   \n",
       "\n",
       "       FuelConsumptionHwy(L)  FuelConsumptionComb(L)  \\\n",
       "count             935.000000              935.000000   \n",
       "mean                9.306203               11.060214   \n",
       "std                 2.215819                2.867028   \n",
       "min                 3.900000                4.000000   \n",
       "25%                 7.700000                9.100000   \n",
       "50%                 9.000000               10.700000   \n",
       "75%                10.800000               13.100000   \n",
       "max                20.900000               26.100000   \n",
       "\n",
       "       FuelConsumptionComb(mpg)  CO2Emissions   CO2Rating  SmogRating  \n",
       "count                935.000000    935.000000  935.000000  935.000000  \n",
       "mean                  27.345455    258.529412    4.357219    4.726203  \n",
       "std                    7.730569     64.442768    1.640849    1.712127  \n",
       "min                   11.000000     94.000000    1.000000    1.000000  \n",
       "25%                   22.000000    213.000000    3.000000    3.000000  \n",
       "50%                   26.000000    255.000000    4.000000    5.000000  \n",
       "75%                   31.000000    303.500000    5.000000    6.000000  \n",
       "max                   71.000000    608.000000   10.000000    7.000000  "
      ]
     },
     "execution_count": 5,
     "metadata": {},
     "output_type": "execute_result"
    }
   ],
   "source": [
    "df_full.describe()"
   ]
  },
  {
   "cell_type": "code",
   "execution_count": 6,
   "metadata": {},
   "outputs": [
    {
     "name": "stdout",
     "output_type": "stream",
     "text": [
      "<class 'pandas.core.frame.DataFrame'>\n",
      "RangeIndex: 935 entries, 0 to 934\n",
      "Data columns (total 15 columns):\n",
      " #   Column                    Non-Null Count  Dtype  \n",
      "---  ------                    --------------  -----  \n",
      " 0   Year                      935 non-null    int64  \n",
      " 1   Make                      935 non-null    object \n",
      " 2   Model                     935 non-null    object \n",
      " 3   Vehicle Class             935 non-null    object \n",
      " 4   Engine Size               935 non-null    float64\n",
      " 5   Cylinders                 935 non-null    int64  \n",
      " 6   Transmission              935 non-null    object \n",
      " 7   FuelType                  935 non-null    object \n",
      " 8   FuelConsumptionCity(L)    935 non-null    float64\n",
      " 9   FuelConsumptionHwy(L)     935 non-null    float64\n",
      " 10  FuelConsumptionComb(L)    935 non-null    float64\n",
      " 11  FuelConsumptionComb(mpg)  935 non-null    int64  \n",
      " 12  CO2Emissions              935 non-null    int64  \n",
      " 13  CO2Rating                 935 non-null    int64  \n",
      " 14  SmogRating                935 non-null    int64  \n",
      "dtypes: float64(4), int64(6), object(5)\n",
      "memory usage: 109.7+ KB\n"
     ]
    }
   ],
   "source": [
    "df_full.info()"
   ]
  },
  {
   "cell_type": "code",
   "execution_count": 7,
   "metadata": {},
   "outputs": [
    {
     "data": {
      "text/plain": [
       "<seaborn.axisgrid.PairGrid at 0x22b2f7d5c10>"
      ]
     },
     "execution_count": 7,
     "metadata": {},
     "output_type": "execute_result"
    },
    {
     "data": {
      "image/png": "[encoded data removed]",
      "text/plain": [
       "<Figure size 1800x1800 with 110 Axes>"
      ]
     },
     "metadata": {
      "needs_background": "light"
     },
     "output_type": "display_data"
    }
   ],
   "source": [
    "sns.pairplot(df_full)"
   ]
  },
  {
   "cell_type": "code",
   "execution_count": 8,
   "metadata": {},
   "outputs": [
    {
     "data": {
      "text/plain": [
       "Index(['Year', 'Make', 'Model', 'Vehicle Class', 'Engine Size', 'Cylinders',\n",
       "       'Transmission', 'FuelType', 'FuelConsumptionCity(L)',\n",
       "       'FuelConsumptionHwy(L)', 'FuelConsumptionComb(L)',\n",
       "       'FuelConsumptionComb(mpg)', 'CO2Emissions', 'CO2Rating', 'SmogRating'],\n",
       "      dtype='object')"
      ]
     },
     "execution_count": 8,
     "metadata": {},
     "output_type": "execute_result"
    }
   ],
   "source": [
    "df_full.columns"
   ]
  },
  {
   "cell_type": "code",
   "execution_count": 10,
   "metadata": {},
   "outputs": [
    {
     "data": {
      "text/plain": [
       "array([[2.021e+03, 2.400e+00, 4.000e+00, ..., 7.000e+00, 8.600e+00,\n",
       "        3.300e+01],\n",
       "       [2.021e+03, 3.500e+00, 6.000e+00, ..., 1.080e+01, 1.100e+01,\n",
       "        2.600e+01],\n",
       "       [2.021e+03, 2.000e+00, 4.000e+00, ..., 8.600e+00, 9.900e+00,\n",
       "        2.900e+01],\n",
       "       ...,\n",
       "       [2.021e+03, 2.000e+00, 4.000e+00, ..., 8.600e+00, 1.030e+01,\n",
       "        2.700e+01],\n",
       "       [2.021e+03, 2.000e+00, 4.000e+00, ..., 8.400e+00, 1.010e+01,\n",
       "        2.800e+01],\n",
       "       [2.021e+03, 2.000e+00, 4.000e+00, ..., 8.500e+00, 1.050e+01,\n",
       "        2.700e+01]])"
      ]
     },
     "execution_count": 10,
     "metadata": {},
     "output_type": "execute_result"
    }
   ],
   "source": [
    "features_X = ['Year', 'Engine Size', 'Cylinders', 'FuelConsumptionCity(L)', 'FuelConsumptionHwy(L)', 'FuelConsumptionComb(L)','FuelConsumptionComb(mpg)']\n",
    "X = df_full[features_X].values\n",
    "X"
   ]
  },
  {
   "cell_type": "code",
   "execution_count": 12,
   "metadata": {},
   "outputs": [
    {
     "data": {
      "text/plain": [
       "array([[199],\n",
       "       [256],\n",
       "       [232],\n",
       "       [242],\n",
       "       [230],\n",
       "       [231],\n",
       "       [205],\n",
       "       [217],\n",
       "       [271],\n",
       "       [218],\n",
       "       [226],\n",
       "       [288],\n",
       "       [271],\n",
       "       [312],\n",
       "       [324],\n",
       "       [357],\n",
       "       [270],\n",
       "       [333],\n",
       "       [208],\n",
       "       [194],\n",
       "       [205],\n",
       "       [212],\n",
       "       [205],\n",
       "       [205],\n",
       "       [247],\n",
       "       [214],\n",
       "       [227],\n",
       "       [227],\n",
       "       [267],\n",
       "       [308],\n",
       "       [218],\n",
       "       [239],\n",
       "       [217],\n",
       "       [217],\n",
       "       [264],\n",
       "       [281],\n",
       "       [281],\n",
       "       [329],\n",
       "       [353],\n",
       "       [329],\n",
       "       [353],\n",
       "       [269],\n",
       "       [266],\n",
       "       [319],\n",
       "       [315],\n",
       "       [360],\n",
       "       [237],\n",
       "       [244],\n",
       "       [237],\n",
       "       [237],\n",
       "       [255],\n",
       "       [255],\n",
       "       [339],\n",
       "       [274],\n",
       "       [274],\n",
       "       [324],\n",
       "       [324],\n",
       "       [216],\n",
       "       [216],\n",
       "       [232],\n",
       "       [220],\n",
       "       [309],\n",
       "       [383],\n",
       "       [290],\n",
       "       [364],\n",
       "       [290],\n",
       "       [373],\n",
       "       [323],\n",
       "       [373],\n",
       "       [206],\n",
       "       [225],\n",
       "       [225],\n",
       "       [195],\n",
       "       [202],\n",
       "       [206],\n",
       "       [211],\n",
       "       [281],\n",
       "       [281],\n",
       "       [281],\n",
       "       [321],\n",
       "       [293],\n",
       "       [273],\n",
       "       [213],\n",
       "       [228],\n",
       "       [228],\n",
       "       [214],\n",
       "       [214],\n",
       "       [323],\n",
       "       [323],\n",
       "       [272],\n",
       "       [354],\n",
       "       [323],\n",
       "       [323],\n",
       "       [323],\n",
       "       [323],\n",
       "       [323],\n",
       "       [323],\n",
       "       [281],\n",
       "       [272],\n",
       "       [281],\n",
       "       [213],\n",
       "       [205],\n",
       "       [209],\n",
       "       [217],\n",
       "       [339],\n",
       "       [339],\n",
       "       [235],\n",
       "       [217],\n",
       "       [339],\n",
       "       [339],\n",
       "       [235],\n",
       "       [242],\n",
       "       [364],\n",
       "       [364],\n",
       "       [302],\n",
       "       [242],\n",
       "       [364],\n",
       "       [364],\n",
       "       [302],\n",
       "       [256],\n",
       "       [321],\n",
       "       [197],\n",
       "       [221],\n",
       "       [522],\n",
       "       [608],\n",
       "       [264],\n",
       "       [277],\n",
       "       [204],\n",
       "       [203],\n",
       "       [214],\n",
       "       [214],\n",
       "       [188],\n",
       "       [209],\n",
       "       [222],\n",
       "       [203],\n",
       "       [221],\n",
       "       [213],\n",
       "       [232],\n",
       "       [234],\n",
       "       [239],\n",
       "       [209],\n",
       "       [249],\n",
       "       [242],\n",
       "       [260],\n",
       "       [256],\n",
       "       [260],\n",
       "       [277],\n",
       "       [347],\n",
       "       [357],\n",
       "       [209],\n",
       "       [227],\n",
       "       [222],\n",
       "       [237],\n",
       "       [263],\n",
       "       [239],\n",
       "       [269],\n",
       "       [221],\n",
       "       [238],\n",
       "       [247],\n",
       "       [227],\n",
       "       [256],\n",
       "       [222],\n",
       "       [247],\n",
       "       [251],\n",
       "       [281],\n",
       "       [281],\n",
       "       [296],\n",
       "       [355],\n",
       "       [349],\n",
       "       [257],\n",
       "       [294],\n",
       "       [263],\n",
       "       [268],\n",
       "       [294],\n",
       "       [284],\n",
       "       [326],\n",
       "       [329],\n",
       "       [290],\n",
       "       [198],\n",
       "       [207],\n",
       "       [175],\n",
       "       [213],\n",
       "       [263],\n",
       "       [263],\n",
       "       [238],\n",
       "       [318],\n",
       "       [325],\n",
       "       [336],\n",
       "       [340],\n",
       "       [315],\n",
       "       [286],\n",
       "       [319],\n",
       "       [275],\n",
       "       [275],\n",
       "       [268],\n",
       "       [329],\n",
       "       [347],\n",
       "       [331],\n",
       "       [348],\n",
       "       [347],\n",
       "       [326],\n",
       "       [350],\n",
       "       [368],\n",
       "       [299],\n",
       "       [339],\n",
       "       [298],\n",
       "       [313],\n",
       "       [307],\n",
       "       [321],\n",
       "       [306],\n",
       "       [324],\n",
       "       [332],\n",
       "       [352],\n",
       "       [165],\n",
       "       [170],\n",
       "       [272],\n",
       "       [309],\n",
       "       [325],\n",
       "       [277],\n",
       "       [328],\n",
       "       [341],\n",
       "       [347],\n",
       "       [357],\n",
       "       [263],\n",
       "       [309],\n",
       "       [325],\n",
       "       [277],\n",
       "       [317],\n",
       "       [327],\n",
       "       [347],\n",
       "       [357],\n",
       "       [188],\n",
       "       [179],\n",
       "       [196],\n",
       "       [261],\n",
       "       [277],\n",
       "       [196],\n",
       "       [203],\n",
       "       [214],\n",
       "       [214],\n",
       "       [242],\n",
       "       [289],\n",
       "       [258],\n",
       "       [249],\n",
       "       [249],\n",
       "       [279],\n",
       "       [242],\n",
       "       [289],\n",
       "       [307],\n",
       "       [306],\n",
       "       [325],\n",
       "       [258],\n",
       "       [306],\n",
       "       [325],\n",
       "       [339],\n",
       "       [352],\n",
       "       [359],\n",
       "       [352],\n",
       "       [242],\n",
       "       [289],\n",
       "       [306],\n",
       "       [258],\n",
       "       [306],\n",
       "       [368],\n",
       "       [265],\n",
       "       [331],\n",
       "       [363],\n",
       "       [410],\n",
       "       [221],\n",
       "       [264],\n",
       "       [265],\n",
       "       [287],\n",
       "       [318],\n",
       "       [330],\n",
       "       [315],\n",
       "       [308],\n",
       "       [310],\n",
       "       [308],\n",
       "       [327],\n",
       "       [209],\n",
       "       [238],\n",
       "       [197],\n",
       "       [217],\n",
       "       [229],\n",
       "       [236],\n",
       "       [237],\n",
       "       [262],\n",
       "       [182],\n",
       "       [198],\n",
       "       [213],\n",
       "       [136],\n",
       "       [139],\n",
       "       [295],\n",
       "       [308],\n",
       "       [242],\n",
       "       [242],\n",
       "       [277],\n",
       "       [268],\n",
       "       [225],\n",
       "       [253],\n",
       "       [259],\n",
       "       [242],\n",
       "       [274],\n",
       "       [287],\n",
       "       [291],\n",
       "       [296],\n",
       "       [284],\n",
       "       [271],\n",
       "       [280],\n",
       "       [287],\n",
       "       [275],\n",
       "       [252],\n",
       "       [282],\n",
       "       [307],\n",
       "       [303],\n",
       "       [315],\n",
       "       [301],\n",
       "       [344],\n",
       "       [357],\n",
       "       [359],\n",
       "       [370],\n",
       "       [310],\n",
       "       [313],\n",
       "       [217],\n",
       "       [229],\n",
       "       [393],\n",
       "       [221],\n",
       "       [222],\n",
       "       [242],\n",
       "       [233],\n",
       "       [246],\n",
       "       [300],\n",
       "       [314],\n",
       "       [244],\n",
       "       [241],\n",
       "       [251],\n",
       "       [244],\n",
       "       [258],\n",
       "       [312],\n",
       "       [303],\n",
       "       [325],\n",
       "       [256],\n",
       "       [287],\n",
       "       [393],\n",
       "       [341],\n",
       "       [321],\n",
       "       [354],\n",
       "       [331],\n",
       "       [217],\n",
       "       [217],\n",
       "       [209],\n",
       "       [247],\n",
       "       [214],\n",
       "       [214],\n",
       "       [208],\n",
       "       [251],\n",
       "       [255],\n",
       "       [236],\n",
       "       [284],\n",
       "       [225],\n",
       "       [262],\n",
       "       [303],\n",
       "       [248],\n",
       "       [279],\n",
       "       [221],\n",
       "       [238],\n",
       "       [250],\n",
       "       [227],\n",
       "       [256],\n",
       "       [257],\n",
       "       [294],\n",
       "       [263],\n",
       "       [268],\n",
       "       [294],\n",
       "       [306],\n",
       "       [263],\n",
       "       [263],\n",
       "       [245],\n",
       "       [318],\n",
       "       [325],\n",
       "       [336],\n",
       "       [340],\n",
       "       [315],\n",
       "       [288],\n",
       "       [321],\n",
       "       [288],\n",
       "       [295],\n",
       "       [268],\n",
       "       [268],\n",
       "       [329],\n",
       "       [331],\n",
       "       [348],\n",
       "       [347],\n",
       "       [326],\n",
       "       [355],\n",
       "       [313],\n",
       "       [349],\n",
       "       [312],\n",
       "       [348],\n",
       "       [298],\n",
       "       [313],\n",
       "       [307],\n",
       "       [321],\n",
       "       [316],\n",
       "       [335],\n",
       "       [332],\n",
       "       [352],\n",
       "       [201],\n",
       "       [211],\n",
       "       [272],\n",
       "       [309],\n",
       "       [325],\n",
       "       [277],\n",
       "       [317],\n",
       "       [327],\n",
       "       [347],\n",
       "       [357],\n",
       "       [272],\n",
       "       [309],\n",
       "       [325],\n",
       "       [277],\n",
       "       [328],\n",
       "       [341],\n",
       "       [347],\n",
       "       [357],\n",
       "       [168],\n",
       "       [176],\n",
       "       [211],\n",
       "       [117],\n",
       "       [129],\n",
       "       [171],\n",
       "       [172],\n",
       "       [171],\n",
       "       [165],\n",
       "       [167],\n",
       "       [172],\n",
       "       [223],\n",
       "       [180],\n",
       "       [189],\n",
       "       [181],\n",
       "       [193],\n",
       "       [200],\n",
       "       [115],\n",
       "       [115],\n",
       "       [248],\n",
       "       [265],\n",
       "       [256],\n",
       "       [271],\n",
       "       [179],\n",
       "       [157],\n",
       "       [152],\n",
       "       [185],\n",
       "       [103],\n",
       "       [ 99],\n",
       "       [ 94],\n",
       "       [187],\n",
       "       [201],\n",
       "       [202],\n",
       "       [250],\n",
       "       [265],\n",
       "       [214],\n",
       "       [233],\n",
       "       [235],\n",
       "       [176],\n",
       "       [182],\n",
       "       [208],\n",
       "       [182],\n",
       "       [117],\n",
       "       [216],\n",
       "       [239],\n",
       "       [241],\n",
       "       [248],\n",
       "       [226],\n",
       "       [178],\n",
       "       [184],\n",
       "       [254],\n",
       "       [261],\n",
       "       [252],\n",
       "       [259],\n",
       "       [229],\n",
       "       [356],\n",
       "       [215],\n",
       "       [215],\n",
       "       [265],\n",
       "       [265],\n",
       "       [299],\n",
       "       [299],\n",
       "       [214],\n",
       "       [219],\n",
       "       [240],\n",
       "       [229],\n",
       "       [230],\n",
       "       [249],\n",
       "       [240],\n",
       "       [259],\n",
       "       [268],\n",
       "       [218],\n",
       "       [222],\n",
       "       [263],\n",
       "       [271],\n",
       "       [290],\n",
       "       [296],\n",
       "       [265],\n",
       "       [331],\n",
       "       [368],\n",
       "       [413],\n",
       "       [266],\n",
       "       [331],\n",
       "       [204],\n",
       "       [222],\n",
       "       [222],\n",
       "       [231],\n",
       "       [230],\n",
       "       [241],\n",
       "       [274],\n",
       "       [258],\n",
       "       [277],\n",
       "       [251],\n",
       "       [255],\n",
       "       [275],\n",
       "       [280],\n",
       "       [262],\n",
       "       [285],\n",
       "       [184],\n",
       "       [164],\n",
       "       [180],\n",
       "       [190],\n",
       "       [209],\n",
       "       [169],\n",
       "       [207],\n",
       "       [193],\n",
       "       [110],\n",
       "       [110],\n",
       "       [124],\n",
       "       [159],\n",
       "       [166],\n",
       "       [272],\n",
       "       [182],\n",
       "       [205],\n",
       "       [195],\n",
       "       [233],\n",
       "       [227],\n",
       "       [187],\n",
       "       [214],\n",
       "       [261],\n",
       "       [237],\n",
       "       [279],\n",
       "       [265],\n",
       "       [520],\n",
       "       [520],\n",
       "       [515],\n",
       "       [515],\n",
       "       [370],\n",
       "       [371],\n",
       "       [370],\n",
       "       [371],\n",
       "       [384],\n",
       "       [197],\n",
       "       [124],\n",
       "       [213],\n",
       "       [219],\n",
       "       [337],\n",
       "       [221],\n",
       "       [253],\n",
       "       [253],\n",
       "       [294],\n",
       "       [304],\n",
       "       [189],\n",
       "       [269],\n",
       "       [213],\n",
       "       [395],\n",
       "       [226],\n",
       "       [232],\n",
       "       [175],\n",
       "       [253],\n",
       "       [253],\n",
       "       [285],\n",
       "       [252],\n",
       "       [268],\n",
       "       [185],\n",
       "       [190],\n",
       "       [168],\n",
       "       [130],\n",
       "       [140],\n",
       "       [280],\n",
       "       [229],\n",
       "       [232],\n",
       "       [252],\n",
       "       [252],\n",
       "       [262],\n",
       "       [316],\n",
       "       [277],\n",
       "       [277],\n",
       "       [293],\n",
       "       [348],\n",
       "       [308],\n",
       "       [308],\n",
       "       [349],\n",
       "       [349],\n",
       "       [291],\n",
       "       [293],\n",
       "       [348],\n",
       "       [179],\n",
       "       [186],\n",
       "       [189],\n",
       "       [189],\n",
       "       [194],\n",
       "       [202],\n",
       "       [208],\n",
       "       [220],\n",
       "       [206],\n",
       "       [201],\n",
       "       [217],\n",
       "       [209],\n",
       "       [230],\n",
       "       [244],\n",
       "       [178],\n",
       "       [180],\n",
       "       [184],\n",
       "       [193],\n",
       "       [207],\n",
       "       [181],\n",
       "       [181],\n",
       "       [190],\n",
       "       [197],\n",
       "       [200],\n",
       "       [209],\n",
       "       [187],\n",
       "       [208],\n",
       "       [186],\n",
       "       [189],\n",
       "       [197],\n",
       "       [193],\n",
       "       [224],\n",
       "       [224],\n",
       "       [266],\n",
       "       [251],\n",
       "       [254],\n",
       "       [249],\n",
       "       [269],\n",
       "       [269],\n",
       "       [281],\n",
       "       [273],\n",
       "       [224],\n",
       "       [242],\n",
       "       [242],\n",
       "       [225],\n",
       "       [239],\n",
       "       [235],\n",
       "       [238],\n",
       "       [301],\n",
       "       [300],\n",
       "       [396],\n",
       "       [219],\n",
       "       [243],\n",
       "       [237],\n",
       "       [272],\n",
       "       [277],\n",
       "       [319],\n",
       "       [311],\n",
       "       [285],\n",
       "       [273],\n",
       "       [340],\n",
       "       [347],\n",
       "       [347],\n",
       "       [255],\n",
       "       [322],\n",
       "       [312],\n",
       "       [328],\n",
       "       [332],\n",
       "       [330],\n",
       "       [339],\n",
       "       [317],\n",
       "       [293],\n",
       "       [204],\n",
       "       [223],\n",
       "       [210],\n",
       "       [214],\n",
       "       [201],\n",
       "       [222],\n",
       "       [221],\n",
       "       [217],\n",
       "       [219],\n",
       "       [218],\n",
       "       [226],\n",
       "       [307],\n",
       "       [203],\n",
       "       [216],\n",
       "       [235],\n",
       "       [226],\n",
       "       [254],\n",
       "       [244],\n",
       "       [257],\n",
       "       [305],\n",
       "       [346],\n",
       "       [301],\n",
       "       [268],\n",
       "       [268],\n",
       "       [284],\n",
       "       [230],\n",
       "       [282],\n",
       "       [282],\n",
       "       [285],\n",
       "       [176],\n",
       "       [180],\n",
       "       [176],\n",
       "       [180],\n",
       "       [198],\n",
       "       [176],\n",
       "       [180],\n",
       "       [206],\n",
       "       [184],\n",
       "       [206],\n",
       "       [184],\n",
       "       [206],\n",
       "       [207],\n",
       "       [191],\n",
       "       [209],\n",
       "       [212],\n",
       "       [190],\n",
       "       [206],\n",
       "       [210],\n",
       "       [194],\n",
       "       [210],\n",
       "       [208],\n",
       "       [143],\n",
       "       [151],\n",
       "       [206],\n",
       "       [213],\n",
       "       [218],\n",
       "       [187],\n",
       "       [190],\n",
       "       [362],\n",
       "       [300],\n",
       "       [169],\n",
       "       [233],\n",
       "       [240],\n",
       "       [245],\n",
       "       [223],\n",
       "       [191],\n",
       "       [212],\n",
       "       [197],\n",
       "       [189],\n",
       "       [195],\n",
       "       [167],\n",
       "       [171],\n",
       "       [187],\n",
       "       [190],\n",
       "       [314],\n",
       "       [321],\n",
       "       [158],\n",
       "       [181],\n",
       "       [233],\n",
       "       [245],\n",
       "       [260],\n",
       "       [284],\n",
       "       [255],\n",
       "       [263],\n",
       "       [236],\n",
       "       [245],\n",
       "       [233],\n",
       "       [245],\n",
       "       [271],\n",
       "       [286],\n",
       "       [260],\n",
       "       [284],\n",
       "       [255],\n",
       "       [263],\n",
       "       [236],\n",
       "       [245],\n",
       "       [271],\n",
       "       [286],\n",
       "       [275],\n",
       "       [275],\n",
       "       [274],\n",
       "       [264],\n",
       "       [273],\n",
       "       [275],\n",
       "       [275],\n",
       "       [275],\n",
       "       [275],\n",
       "       [275],\n",
       "       [273],\n",
       "       [281],\n",
       "       [275],\n",
       "       [274],\n",
       "       [278],\n",
       "       [321],\n",
       "       [324],\n",
       "       [321],\n",
       "       [328],\n",
       "       [269],\n",
       "       [271],\n",
       "       [331],\n",
       "       [326],\n",
       "       [278],\n",
       "       [286],\n",
       "       [329],\n",
       "       [332],\n",
       "       [264],\n",
       "       [285],\n",
       "       [274],\n",
       "       [293],\n",
       "       [274],\n",
       "       [274],\n",
       "       [289],\n",
       "       [274],\n",
       "       [276],\n",
       "       [292],\n",
       "       [292],\n",
       "       [323],\n",
       "       [323],\n",
       "       [326],\n",
       "       [326],\n",
       "       [326],\n",
       "       [243],\n",
       "       [238],\n",
       "       [253],\n",
       "       [245],\n",
       "       [320],\n",
       "       [290],\n",
       "       [260],\n",
       "       [259],\n",
       "       [325],\n",
       "       [294],\n",
       "       [465],\n",
       "       [280],\n",
       "       [319],\n",
       "       [294],\n",
       "       [330],\n",
       "       [232],\n",
       "       [386],\n",
       "       [386],\n",
       "       [408],\n",
       "       [408],\n",
       "       [387],\n",
       "       [387],\n",
       "       [382],\n",
       "       [382],\n",
       "       [387],\n",
       "       [387],\n",
       "       [244],\n",
       "       [185],\n",
       "       [220],\n",
       "       [188],\n",
       "       [192],\n",
       "       [174],\n",
       "       [210],\n",
       "       [178],\n",
       "       [211],\n",
       "       [205],\n",
       "       [184],\n",
       "       [213],\n",
       "       [192],\n",
       "       [269],\n",
       "       [243],\n",
       "       [301],\n",
       "       [321],\n",
       "       [321],\n",
       "       [221],\n",
       "       [197],\n",
       "       [189],\n",
       "       [173],\n",
       "       [177],\n",
       "       [210],\n",
       "       [215],\n",
       "       [220],\n",
       "       [190],\n",
       "       [197],\n",
       "       [113],\n",
       "       [121],\n",
       "       [165],\n",
       "       [170],\n",
       "       [165],\n",
       "       [159],\n",
       "       [164],\n",
       "       [173],\n",
       "       [164],\n",
       "       [178],\n",
       "       [158],\n",
       "       [179],\n",
       "       [106],\n",
       "       [197],\n",
       "       [218],\n",
       "       [240],\n",
       "       [241],\n",
       "       [158],\n",
       "       [156],\n",
       "       [106],\n",
       "       [111],\n",
       "       [184],\n",
       "       [180],\n",
       "       [195],\n",
       "       [187],\n",
       "       [184],\n",
       "       [200],\n",
       "       [140],\n",
       "       [384],\n",
       "       [153],\n",
       "       [157],\n",
       "       [278],\n",
       "       [299],\n",
       "       [300],\n",
       "       [371],\n",
       "       [382],\n",
       "       [141],\n",
       "       [230],\n",
       "       [256],\n",
       "       [301],\n",
       "       [257],\n",
       "       [289],\n",
       "       [174],\n",
       "       [166],\n",
       "       [201],\n",
       "       [213],\n",
       "       [165],\n",
       "       [162],\n",
       "       [195],\n",
       "       [198],\n",
       "       [195],\n",
       "       [219],\n",
       "       [232],\n",
       "       [200],\n",
       "       [215],\n",
       "       [219],\n",
       "       [224],\n",
       "       [200],\n",
       "       [224],\n",
       "       [220],\n",
       "       [217],\n",
       "       [219],\n",
       "       [230],\n",
       "       [240],\n",
       "       [236],\n",
       "       [245]], dtype=int64)"
      ]
     },
     "execution_count": 12,
     "metadata": {},
     "output_type": "execute_result"
    }
   ],
   "source": [
    "predictor = ['CO2Emissions']\n",
    "Y = df_full[predictor].values\n",
    "Y"
   ]
  },
  {
   "cell_type": "code",
   "execution_count": 13,
   "metadata": {},
   "outputs": [],
   "source": [
    "X_train, X_test, Y_train, Y_test = train_test_split(X,Y, test_size=0.2)"
   ]
  },
  {
   "cell_type": "code",
   "execution_count": 14,
   "metadata": {},
   "outputs": [
    {
     "name": "stdout",
     "output_type": "stream",
     "text": [
      "(748, 7)\n"
     ]
    }
   ],
   "source": [
    "print(X_train.shape)"
   ]
  },
  {
   "cell_type": "code",
   "execution_count": 15,
   "metadata": {},
   "outputs": [
    {
     "name": "stdout",
     "output_type": "stream",
     "text": [
      "(187, 7)\n"
     ]
    }
   ],
   "source": [
    "print(X_test.shape)"
   ]
  },
  {
   "cell_type": "code",
   "execution_count": 16,
   "metadata": {},
   "outputs": [
    {
     "name": "stdout",
     "output_type": "stream",
     "text": [
      "(748, 1)\n"
     ]
    }
   ],
   "source": [
    "print(Y_train.shape)"
   ]
  },
  {
   "cell_type": "code",
   "execution_count": 17,
   "metadata": {},
   "outputs": [
    {
     "name": "stdout",
     "output_type": "stream",
     "text": [
      "(187, 1)\n"
     ]
    }
   ],
   "source": [
    "print(Y_test.shape)"
   ]
  },
  {
   "cell_type": "code",
   "execution_count": 19,
   "metadata": {},
   "outputs": [],
   "source": [
    "from sklearn.linear_model import LinearRegression, Ridge\n",
    "lm = LinearRegression().fit(X_train,Y_train)"
   ]
  },
  {
   "cell_type": "code",
   "execution_count": 20,
   "metadata": {},
   "outputs": [
    {
     "data": {
      "text/plain": [
       "array([[  0.        ,   1.5016734 ,   3.47601848, -17.6461491 ,\n",
       "        -14.30882232,  46.98047936,  -1.67300697]])"
      ]
     },
     "execution_count": 20,
     "metadata": {},
     "output_type": "execute_result"
    }
   ],
   "source": [
    "lm.coef_"
   ]
  },
  {
   "cell_type": "code",
   "execution_count": 21,
   "metadata": {},
   "outputs": [
    {
     "data": {
      "text/plain": [
       "array([113.70839398])"
      ]
     },
     "execution_count": 21,
     "metadata": {},
     "output_type": "execute_result"
    }
   ],
   "source": [
    "lm.intercept_"
   ]
  },
  {
   "cell_type": "code",
   "execution_count": 22,
   "metadata": {},
   "outputs": [],
   "source": [
    "Lm_predication=lm.predict(X_test)"
   ]
  },
  {
   "cell_type": "code",
   "execution_count": 28,
   "metadata": {},
   "outputs": [
    {
     "data": {
      "text/html": [
       "<div>\n",
       "<style scoped>\n",
       "    .dataframe tbody tr th:only-of-type {\n",
       "        vertical-align: middle;\n",
       "    }\n",
       "\n",
       "    .dataframe tbody tr th {\n",
       "        vertical-align: top;\n",
       "    }\n",
       "\n",
       "    .dataframe thead th {\n",
       "        text-align: right;\n",
       "    }\n",
       "</style>\n",
       "<table border=\"1\" class=\"dataframe\">\n",
       "  <thead>\n",
       "    <tr style=\"text-align: right;\">\n",
       "      <th></th>\n",
       "      <th>Actual_Data</th>\n",
       "      <th>New_Predication</th>\n",
       "      <th>Error</th>\n",
       "    </tr>\n",
       "  </thead>\n",
       "  <tbody>\n",
       "    <tr>\n",
       "      <th>0</th>\n",
       "      <td>382</td>\n",
       "      <td>366.600815</td>\n",
       "      <td>15.399185</td>\n",
       "    </tr>\n",
       "    <tr>\n",
       "      <th>1</th>\n",
       "      <td>179</td>\n",
       "      <td>181.669438</td>\n",
       "      <td>-2.669438</td>\n",
       "    </tr>\n",
       "    <tr>\n",
       "      <th>2</th>\n",
       "      <td>263</td>\n",
       "      <td>258.653136</td>\n",
       "      <td>4.346864</td>\n",
       "    </tr>\n",
       "    <tr>\n",
       "      <th>3</th>\n",
       "      <td>318</td>\n",
       "      <td>309.116717</td>\n",
       "      <td>8.883283</td>\n",
       "    </tr>\n",
       "    <tr>\n",
       "      <th>4</th>\n",
       "      <td>271</td>\n",
       "      <td>274.335313</td>\n",
       "      <td>-3.335313</td>\n",
       "    </tr>\n",
       "    <tr>\n",
       "      <th>...</th>\n",
       "      <td>...</td>\n",
       "      <td>...</td>\n",
       "      <td>...</td>\n",
       "    </tr>\n",
       "    <tr>\n",
       "      <th>182</th>\n",
       "      <td>353</td>\n",
       "      <td>351.617294</td>\n",
       "      <td>1.382706</td>\n",
       "    </tr>\n",
       "    <tr>\n",
       "      <th>183</th>\n",
       "      <td>228</td>\n",
       "      <td>238.519840</td>\n",
       "      <td>-10.519840</td>\n",
       "    </tr>\n",
       "    <tr>\n",
       "      <th>184</th>\n",
       "      <td>208</td>\n",
       "      <td>210.009020</td>\n",
       "      <td>-2.009020</td>\n",
       "    </tr>\n",
       "    <tr>\n",
       "      <th>185</th>\n",
       "      <td>235</td>\n",
       "      <td>234.206022</td>\n",
       "      <td>0.793978</td>\n",
       "    </tr>\n",
       "    <tr>\n",
       "      <th>186</th>\n",
       "      <td>173</td>\n",
       "      <td>178.171850</td>\n",
       "      <td>-5.171850</td>\n",
       "    </tr>\n",
       "  </tbody>\n",
       "</table>\n",
       "<p>187 rows × 3 columns</p>\n",
       "</div>"
      ],
      "text/plain": [
       "     Actual_Data  New_Predication      Error\n",
       "0            382       366.600815  15.399185\n",
       "1            179       181.669438  -2.669438\n",
       "2            263       258.653136   4.346864\n",
       "3            318       309.116717   8.883283\n",
       "4            271       274.335313  -3.335313\n",
       "..           ...              ...        ...\n",
       "182          353       351.617294   1.382706\n",
       "183          228       238.519840 -10.519840\n",
       "184          208       210.009020  -2.009020\n",
       "185          235       234.206022   0.793978\n",
       "186          173       178.171850  -5.171850\n",
       "\n",
       "[187 rows x 3 columns]"
      ]
     },
     "execution_count": 28,
     "metadata": {},
     "output_type": "execute_result"
    }
   ],
   "source": [
    "diff = (Y_test-Lm_predication)\n",
    "comp = pd.DataFrame({\"Actual_Data\":Y_test.flatten(), \"New_Predication\":Lm_predication.flatten(), \"Error\":diff.flatten()})  \n",
    "comp"
   ]
  },
  {
   "cell_type": "code",
   "execution_count": 29,
   "metadata": {},
   "outputs": [],
   "source": [
    "from sklearn.metrics import mean_absolute_error,mean_squared_error"
   ]
  },
  {
   "cell_type": "code",
   "execution_count": 34,
   "metadata": {},
   "outputs": [
    {
     "name": "stdout",
     "output_type": "stream",
     "text": [
      "MSE:  244.06139639308054\n"
     ]
    }
   ],
   "source": [
    "print('MSE: ', mean_squared_error(Y_test,Lm_predication))"
   ]
  },
  {
   "cell_type": "code",
   "execution_count": 35,
   "metadata": {},
   "outputs": [
    {
     "name": "stdout",
     "output_type": "stream",
     "text": [
      "Train Score of a model is:  0.9535458284608291\n"
     ]
    }
   ],
   "source": [
    "Trian_Score = lm.score(X_train,Y_train) \n",
    "print(\"Train Score of a model is: \",Trian_Score)"
   ]
  },
  {
   "cell_type": "code",
   "execution_count": 36,
   "metadata": {},
   "outputs": [
    {
     "name": "stdout",
     "output_type": "stream",
     "text": [
      "Test Score of a Model is:  1.0\n"
     ]
    }
   ],
   "source": [
    "Test_Score = lm.score(X_test,Lm_predication)   \n",
    "print(\"Test Score of a Model is: \",Test_Score)"
   ]
  },
  {
   "cell_type": "markdown",
   "metadata": {},
   "source": [
    "**(1)** If Train Score is More then Test Score we can called it as **Overfitting**\n",
    "\n",
    "**(2)** if Train Score is less and Test Score is More then it is called **Underfitting**"
   ]
  },
  {
   "cell_type": "code",
   "execution_count": 37,
   "metadata": {},
   "outputs": [],
   "source": [
    "from sklearn.model_selection import cross_val_score"
   ]
  },
  {
   "cell_type": "code",
   "execution_count": 38,
   "metadata": {},
   "outputs": [
    {
     "data": {
      "text/plain": [
       "array([0.96442366, 0.9336069 , 0.90489918, 0.9867974 , 0.96905701,\n",
       "       0.89456028, 0.92777335, 0.9625161 , 0.98689573, 0.98949749,\n",
       "       0.98130213, 0.87317291, 0.99403343, 0.98300733, 0.94199436,\n",
       "       0.96096374, 0.93239449, 0.8528705 , 0.98810437, 0.94065768])"
      ]
     },
     "execution_count": 38,
     "metadata": {},
     "output_type": "execute_result"
    }
   ],
   "source": [
    "CV = cross_val_score(lm,X_train,Y_train,cv=20)\n",
    "CV"
   ]
  },
  {
   "cell_type": "code",
   "execution_count": 39,
   "metadata": {},
   "outputs": [
    {
     "data": {
      "text/plain": [
       "0.9484264026343906"
      ]
     },
     "execution_count": 39,
     "metadata": {},
     "output_type": "execute_result"
    }
   ],
   "source": [
    "np.mean(CV)"
   ]
  },
  {
   "cell_type": "code",
   "execution_count": 40,
   "metadata": {},
   "outputs": [
    {
     "data": {
      "text/plain": [
       "0.9940334321856755"
      ]
     },
     "execution_count": 40,
     "metadata": {},
     "output_type": "execute_result"
    }
   ],
   "source": [
    "np.max(CV)"
   ]
  },
  {
   "cell_type": "code",
   "execution_count": 41,
   "metadata": {},
   "outputs": [
    {
     "data": {
      "text/plain": [
       "0.8528705011838265"
      ]
     },
     "execution_count": 41,
     "metadata": {},
     "output_type": "execute_result"
    }
   ],
   "source": [
    "np.min(CV)"
   ]
  },
  {
   "cell_type": "code",
   "execution_count": 42,
   "metadata": {},
   "outputs": [],
   "source": [
    "from sklearn.model_selection import KFold"
   ]
  },
  {
   "cell_type": "code",
   "execution_count": 43,
   "metadata": {},
   "outputs": [],
   "source": [
    "Cv_k = KFold(n_splits=2)"
   ]
  },
  {
   "cell_type": "code",
   "execution_count": 44,
   "metadata": {},
   "outputs": [
    {
     "data": {
      "text/plain": [
       "2"
      ]
     },
     "execution_count": 44,
     "metadata": {},
     "output_type": "execute_result"
    }
   ],
   "source": [
    "Cv_k.get_n_splits(X_test)"
   ]
  },
  {
   "cell_type": "code",
   "execution_count": 45,
   "metadata": {},
   "outputs": [
    {
     "name": "stdout",
     "output_type": "stream",
     "text": [
      "KFold(n_splits=2, random_state=None, shuffle=False)\n"
     ]
    }
   ],
   "source": [
    "print(Cv_k)"
   ]
  },
  {
   "cell_type": "code",
   "execution_count": 47,
   "metadata": {},
   "outputs": [
    {
     "name": "stdout",
     "output_type": "stream",
     "text": [
      "Train [374 375 376 377 378 379 380 381 382 383 384 385 386 387 388 389 390 391\n",
      " 392 393 394 395 396 397 398 399 400 401 402 403 404 405 406 407 408 409\n",
      " 410 411 412 413 414 415 416 417 418 419 420 421 422 423 424 425 426 427\n",
      " 428 429 430 431 432 433 434 435 436 437 438 439 440 441 442 443 444 445\n",
      " 446 447 448 449 450 451 452 453 454 455 456 457 458 459 460 461 462 463\n",
      " 464 465 466 467 468 469 470 471 472 473 474 475 476 477 478 479 480 481\n",
      " 482 483 484 485 486 487 488 489 490 491 492 493 494 495 496 497 498 499\n",
      " 500 501 502 503 504 505 506 507 508 509 510 511 512 513 514 515 516 517\n",
      " 518 519 520 521 522 523 524 525 526 527 528 529 530 531 532 533 534 535\n",
      " 536 537 538 539 540 541 542 543 544 545 546 547 548 549 550 551 552 553\n",
      " 554 555 556 557 558 559 560 561 562 563 564 565 566 567 568 569 570 571\n",
      " 572 573 574 575 576 577 578 579 580 581 582 583 584 585 586 587 588 589\n",
      " 590 591 592 593 594 595 596 597 598 599 600 601 602 603 604 605 606 607\n",
      " 608 609 610 611 612 613 614 615 616 617 618 619 620 621 622 623 624 625\n",
      " 626 627 628 629 630 631 632 633 634 635 636 637 638 639 640 641 642 643\n",
      " 644 645 646 647 648 649 650 651 652 653 654 655 656 657 658 659 660 661\n",
      " 662 663 664 665 666 667 668 669 670 671 672 673 674 675 676 677 678 679\n",
      " 680 681 682 683 684 685 686 687 688 689 690 691 692 693 694 695 696 697\n",
      " 698 699 700 701 702 703 704 705 706 707 708 709 710 711 712 713 714 715\n",
      " 716 717 718 719 720 721 722 723 724 725 726 727 728 729 730 731 732 733\n",
      " 734 735 736 737 738 739 740 741 742 743 744 745 746 747]\n",
      "Test [  0   1   2   3   4   5   6   7   8   9  10  11  12  13  14  15  16  17\n",
      "  18  19  20  21  22  23  24  25  26  27  28  29  30  31  32  33  34  35\n",
      "  36  37  38  39  40  41  42  43  44  45  46  47  48  49  50  51  52  53\n",
      "  54  55  56  57  58  59  60  61  62  63  64  65  66  67  68  69  70  71\n",
      "  72  73  74  75  76  77  78  79  80  81  82  83  84  85  86  87  88  89\n",
      "  90  91  92  93  94  95  96  97  98  99 100 101 102 103 104 105 106 107\n",
      " 108 109 110 111 112 113 114 115 116 117 118 119 120 121 122 123 124 125\n",
      " 126 127 128 129 130 131 132 133 134 135 136 137 138 139 140 141 142 143\n",
      " 144 145 146 147 148 149 150 151 152 153 154 155 156 157 158 159 160 161\n",
      " 162 163 164 165 166 167 168 169 170 171 172 173 174 175 176 177 178 179\n",
      " 180 181 182 183 184 185 186 187 188 189 190 191 192 193 194 195 196 197\n",
      " 198 199 200 201 202 203 204 205 206 207 208 209 210 211 212 213 214 215\n",
      " 216 217 218 219 220 221 222 223 224 225 226 227 228 229 230 231 232 233\n",
      " 234 235 236 237 238 239 240 241 242 243 244 245 246 247 248 249 250 251\n",
      " 252 253 254 255 256 257 258 259 260 261 262 263 264 265 266 267 268 269\n",
      " 270 271 272 273 274 275 276 277 278 279 280 281 282 283 284 285 286 287\n",
      " 288 289 290 291 292 293 294 295 296 297 298 299 300 301 302 303 304 305\n",
      " 306 307 308 309 310 311 312 313 314 315 316 317 318 319 320 321 322 323\n",
      " 324 325 326 327 328 329 330 331 332 333 334 335 336 337 338 339 340 341\n",
      " 342 343 344 345 346 347 348 349 350 351 352 353 354 355 356 357 358 359\n",
      " 360 361 362 363 364 365 366 367 368 369 370 371 372 373]\n",
      "Train [  0   1   2   3   4   5   6   7   8   9  10  11  12  13  14  15  16  17\n",
      "  18  19  20  21  22  23  24  25  26  27  28  29  30  31  32  33  34  35\n",
      "  36  37  38  39  40  41  42  43  44  45  46  47  48  49  50  51  52  53\n",
      "  54  55  56  57  58  59  60  61  62  63  64  65  66  67  68  69  70  71\n",
      "  72  73  74  75  76  77  78  79  80  81  82  83  84  85  86  87  88  89\n",
      "  90  91  92  93  94  95  96  97  98  99 100 101 102 103 104 105 106 107\n",
      " 108 109 110 111 112 113 114 115 116 117 118 119 120 121 122 123 124 125\n",
      " 126 127 128 129 130 131 132 133 134 135 136 137 138 139 140 141 142 143\n",
      " 144 145 146 147 148 149 150 151 152 153 154 155 156 157 158 159 160 161\n",
      " 162 163 164 165 166 167 168 169 170 171 172 173 174 175 176 177 178 179\n",
      " 180 181 182 183 184 185 186 187 188 189 190 191 192 193 194 195 196 197\n",
      " 198 199 200 201 202 203 204 205 206 207 208 209 210 211 212 213 214 215\n",
      " 216 217 218 219 220 221 222 223 224 225 226 227 228 229 230 231 232 233\n",
      " 234 235 236 237 238 239 240 241 242 243 244 245 246 247 248 249 250 251\n",
      " 252 253 254 255 256 257 258 259 260 261 262 263 264 265 266 267 268 269\n",
      " 270 271 272 273 274 275 276 277 278 279 280 281 282 283 284 285 286 287\n",
      " 288 289 290 291 292 293 294 295 296 297 298 299 300 301 302 303 304 305\n",
      " 306 307 308 309 310 311 312 313 314 315 316 317 318 319 320 321 322 323\n",
      " 324 325 326 327 328 329 330 331 332 333 334 335 336 337 338 339 340 341\n",
      " 342 343 344 345 346 347 348 349 350 351 352 353 354 355 356 357 358 359\n",
      " 360 361 362 363 364 365 366 367 368 369 370 371 372 373]\n",
      "Test [374 375 376 377 378 379 380 381 382 383 384 385 386 387 388 389 390 391\n",
      " 392 393 394 395 396 397 398 399 400 401 402 403 404 405 406 407 408 409\n",
      " 410 411 412 413 414 415 416 417 418 419 420 421 422 423 424 425 426 427\n",
      " 428 429 430 431 432 433 434 435 436 437 438 439 440 441 442 443 444 445\n",
      " 446 447 448 449 450 451 452 453 454 455 456 457 458 459 460 461 462 463\n",
      " 464 465 466 467 468 469 470 471 472 473 474 475 476 477 478 479 480 481\n",
      " 482 483 484 485 486 487 488 489 490 491 492 493 494 495 496 497 498 499\n",
      " 500 501 502 503 504 505 506 507 508 509 510 511 512 513 514 515 516 517\n",
      " 518 519 520 521 522 523 524 525 526 527 528 529 530 531 532 533 534 535\n",
      " 536 537 538 539 540 541 542 543 544 545 546 547 548 549 550 551 552 553\n",
      " 554 555 556 557 558 559 560 561 562 563 564 565 566 567 568 569 570 571\n",
      " 572 573 574 575 576 577 578 579 580 581 582 583 584 585 586 587 588 589\n",
      " 590 591 592 593 594 595 596 597 598 599 600 601 602 603 604 605 606 607\n",
      " 608 609 610 611 612 613 614 615 616 617 618 619 620 621 622 623 624 625\n",
      " 626 627 628 629 630 631 632 633 634 635 636 637 638 639 640 641 642 643\n",
      " 644 645 646 647 648 649 650 651 652 653 654 655 656 657 658 659 660 661\n",
      " 662 663 664 665 666 667 668 669 670 671 672 673 674 675 676 677 678 679\n",
      " 680 681 682 683 684 685 686 687 688 689 690 691 692 693 694 695 696 697\n",
      " 698 699 700 701 702 703 704 705 706 707 708 709 710 711 712 713 714 715\n",
      " 716 717 718 719 720 721 722 723 724 725 726 727 728 729 730 731 732 733\n",
      " 734 735 736 737 738 739 740 741 742 743 744 745 746 747]\n"
     ]
    }
   ],
   "source": [
    "for train_index,test_index in Cv_k.split(X_train):\n",
    "    print(\"Train\",train_index)\n",
    "    print(\"Test\",test_index)"
   ]
  },
  {
   "cell_type": "markdown",
   "metadata": {},
   "source": [
    "## Ridge Regulization\n",
    "\n",
    "Ridge Formula: Sum of Error + Sum of the squares of coefficients"
   ]
  },
  {
   "cell_type": "code",
   "execution_count": 48,
   "metadata": {},
   "outputs": [],
   "source": [
    "Rg = Ridge(alpha=1) ## Regulization parameters"
   ]
  },
  {
   "cell_type": "code",
   "execution_count": 49,
   "metadata": {},
   "outputs": [
    {
     "data": {
      "text/plain": [
       "Ridge(alpha=1)"
      ]
     },
     "execution_count": 49,
     "metadata": {},
     "output_type": "execute_result"
    }
   ],
   "source": [
    "Rg.fit(X_train,Y_train)"
   ]
  },
  {
   "cell_type": "code",
   "execution_count": 50,
   "metadata": {},
   "outputs": [
    {
     "data": {
      "text/plain": [
       "array([[ 0.        ,  1.44217088,  3.43834861, -3.35987194, -2.67823317,\n",
       "        21.09408349, -1.6744253 ]])"
      ]
     },
     "execution_count": 50,
     "metadata": {},
     "output_type": "execute_result"
    }
   ],
   "source": [
    "Rg.coef_"
   ]
  },
  {
   "cell_type": "code",
   "execution_count": 57,
   "metadata": {},
   "outputs": [
    {
     "data": {
      "text/plain": [
       "Index(['Year', 'Engine Size', 'Cylinders', 'FuelConsumptionCity(L)',\n",
       "       'FuelConsumptionHwy(L)', 'FuelConsumptionComb(L)',\n",
       "       'FuelConsumptionComb(mpg)'],\n",
       "      dtype='object')"
      ]
     },
     "execution_count": 57,
     "metadata": {},
     "output_type": "execute_result"
    }
   ],
   "source": [
    "features_X = ['Year', 'Engine Size', 'Cylinders', 'FuelConsumptionCity(L)', 'FuelConsumptionHwy(L)', 'FuelConsumptionComb(L)','FuelConsumptionComb(mpg)']\n",
    "X_names = df_full[features_X].columns\n",
    "X_names"
   ]
  },
  {
   "cell_type": "code",
   "execution_count": 62,
   "metadata": {},
   "outputs": [
    {
     "data": {
      "text/html": [
       "<div>\n",
       "<style scoped>\n",
       "    .dataframe tbody tr th:only-of-type {\n",
       "        vertical-align: middle;\n",
       "    }\n",
       "\n",
       "    .dataframe tbody tr th {\n",
       "        vertical-align: top;\n",
       "    }\n",
       "\n",
       "    .dataframe thead th {\n",
       "        text-align: right;\n",
       "    }\n",
       "</style>\n",
       "<table border=\"1\" class=\"dataframe\">\n",
       "  <thead>\n",
       "    <tr style=\"text-align: right;\">\n",
       "      <th></th>\n",
       "      <th>Features</th>\n",
       "      <th>Linear_Coefficent</th>\n",
       "      <th>Ridge_Coefficent</th>\n",
       "    </tr>\n",
       "  </thead>\n",
       "  <tbody>\n",
       "    <tr>\n",
       "      <th>0</th>\n",
       "      <td>Year</td>\n",
       "      <td>0.000000</td>\n",
       "      <td>0.000000</td>\n",
       "    </tr>\n",
       "    <tr>\n",
       "      <th>1</th>\n",
       "      <td>Engine Size</td>\n",
       "      <td>1.501673</td>\n",
       "      <td>1.442171</td>\n",
       "    </tr>\n",
       "    <tr>\n",
       "      <th>2</th>\n",
       "      <td>Cylinders</td>\n",
       "      <td>3.476018</td>\n",
       "      <td>3.438349</td>\n",
       "    </tr>\n",
       "    <tr>\n",
       "      <th>3</th>\n",
       "      <td>FuelConsumptionCity(L)</td>\n",
       "      <td>-17.646149</td>\n",
       "      <td>-3.359872</td>\n",
       "    </tr>\n",
       "    <tr>\n",
       "      <th>4</th>\n",
       "      <td>FuelConsumptionHwy(L)</td>\n",
       "      <td>-14.308822</td>\n",
       "      <td>-2.678233</td>\n",
       "    </tr>\n",
       "    <tr>\n",
       "      <th>5</th>\n",
       "      <td>FuelConsumptionComb(L)</td>\n",
       "      <td>46.980479</td>\n",
       "      <td>21.094083</td>\n",
       "    </tr>\n",
       "    <tr>\n",
       "      <th>6</th>\n",
       "      <td>FuelConsumptionComb(mpg)</td>\n",
       "      <td>-1.673007</td>\n",
       "      <td>-1.674425</td>\n",
       "    </tr>\n",
       "  </tbody>\n",
       "</table>\n",
       "</div>"
      ],
      "text/plain": [
       "                   Features  Linear_Coefficent  Ridge_Coefficent\n",
       "0                      Year           0.000000          0.000000\n",
       "1               Engine Size           1.501673          1.442171\n",
       "2                 Cylinders           3.476018          3.438349\n",
       "3    FuelConsumptionCity(L)         -17.646149         -3.359872\n",
       "4     FuelConsumptionHwy(L)         -14.308822         -2.678233\n",
       "5    FuelConsumptionComb(L)          46.980479         21.094083\n",
       "6  FuelConsumptionComb(mpg)          -1.673007         -1.674425"
      ]
     },
     "execution_count": 62,
     "metadata": {},
     "output_type": "execute_result"
    }
   ],
   "source": [
    "pd.DataFrame({\"Features\":X_names, \"Linear_Coefficent\":lm.coef_.flatten(), \"Ridge_Coefficent\":Rg.coef_.flatten()})"
   ]
  },
  {
   "cell_type": "code",
   "execution_count": 63,
   "metadata": {},
   "outputs": [
    {
     "data": {
      "text/plain": [
       "array([113.66839699])"
      ]
     },
     "execution_count": 63,
     "metadata": {},
     "output_type": "execute_result"
    }
   ],
   "source": [
    "Rg.intercept_"
   ]
  },
  {
   "cell_type": "code",
   "execution_count": 64,
   "metadata": {},
   "outputs": [],
   "source": [
    "Rg_predicted = Rg.predict(X_test)"
   ]
  },
  {
   "cell_type": "code",
   "execution_count": 68,
   "metadata": {},
   "outputs": [
    {
     "data": {
      "text/html": [
       "<div>\n",
       "<style scoped>\n",
       "    .dataframe tbody tr th:only-of-type {\n",
       "        vertical-align: middle;\n",
       "    }\n",
       "\n",
       "    .dataframe tbody tr th {\n",
       "        vertical-align: top;\n",
       "    }\n",
       "\n",
       "    .dataframe thead th {\n",
       "        text-align: right;\n",
       "    }\n",
       "</style>\n",
       "<table border=\"1\" class=\"dataframe\">\n",
       "  <thead>\n",
       "    <tr style=\"text-align: right;\">\n",
       "      <th></th>\n",
       "      <th>Actual_Data</th>\n",
       "      <th>Linear_Predication</th>\n",
       "      <th>Linear_Error</th>\n",
       "      <th>Ridge_Prediction</th>\n",
       "      <th>Ridge_Error</th>\n",
       "    </tr>\n",
       "  </thead>\n",
       "  <tbody>\n",
       "    <tr>\n",
       "      <th>0</th>\n",
       "      <td>382</td>\n",
       "      <td>366.600815</td>\n",
       "      <td>15.399185</td>\n",
       "      <td>366.255285</td>\n",
       "      <td>15.744715</td>\n",
       "    </tr>\n",
       "    <tr>\n",
       "      <th>1</th>\n",
       "      <td>179</td>\n",
       "      <td>181.669438</td>\n",
       "      <td>-2.669438</td>\n",
       "      <td>182.500345</td>\n",
       "      <td>-3.500345</td>\n",
       "    </tr>\n",
       "    <tr>\n",
       "      <th>2</th>\n",
       "      <td>263</td>\n",
       "      <td>258.653136</td>\n",
       "      <td>4.346864</td>\n",
       "      <td>258.140478</td>\n",
       "      <td>4.859522</td>\n",
       "    </tr>\n",
       "    <tr>\n",
       "      <th>3</th>\n",
       "      <td>318</td>\n",
       "      <td>309.116717</td>\n",
       "      <td>8.883283</td>\n",
       "      <td>308.573271</td>\n",
       "      <td>9.426729</td>\n",
       "    </tr>\n",
       "    <tr>\n",
       "      <th>4</th>\n",
       "      <td>271</td>\n",
       "      <td>274.335313</td>\n",
       "      <td>-3.335313</td>\n",
       "      <td>274.379490</td>\n",
       "      <td>-3.379490</td>\n",
       "    </tr>\n",
       "    <tr>\n",
       "      <th>...</th>\n",
       "      <td>...</td>\n",
       "      <td>...</td>\n",
       "      <td>...</td>\n",
       "      <td>...</td>\n",
       "      <td>...</td>\n",
       "    </tr>\n",
       "    <tr>\n",
       "      <th>182</th>\n",
       "      <td>353</td>\n",
       "      <td>351.617294</td>\n",
       "      <td>1.382706</td>\n",
       "      <td>350.985207</td>\n",
       "      <td>2.014793</td>\n",
       "    </tr>\n",
       "    <tr>\n",
       "      <th>183</th>\n",
       "      <td>228</td>\n",
       "      <td>238.519840</td>\n",
       "      <td>-10.519840</td>\n",
       "      <td>237.664091</td>\n",
       "      <td>-9.664091</td>\n",
       "    </tr>\n",
       "    <tr>\n",
       "      <th>184</th>\n",
       "      <td>208</td>\n",
       "      <td>210.009020</td>\n",
       "      <td>-2.009020</td>\n",
       "      <td>209.855558</td>\n",
       "      <td>-1.855558</td>\n",
       "    </tr>\n",
       "    <tr>\n",
       "      <th>185</th>\n",
       "      <td>235</td>\n",
       "      <td>234.206022</td>\n",
       "      <td>0.793978</td>\n",
       "      <td>234.561934</td>\n",
       "      <td>0.438066</td>\n",
       "    </tr>\n",
       "    <tr>\n",
       "      <th>186</th>\n",
       "      <td>173</td>\n",
       "      <td>178.171850</td>\n",
       "      <td>-5.171850</td>\n",
       "      <td>178.599141</td>\n",
       "      <td>-5.599141</td>\n",
       "    </tr>\n",
       "  </tbody>\n",
       "</table>\n",
       "<p>187 rows × 5 columns</p>\n",
       "</div>"
      ],
      "text/plain": [
       "     Actual_Data  Linear_Predication  Linear_Error  Ridge_Prediction  \\\n",
       "0            382          366.600815     15.399185        366.255285   \n",
       "1            179          181.669438     -2.669438        182.500345   \n",
       "2            263          258.653136      4.346864        258.140478   \n",
       "3            318          309.116717      8.883283        308.573271   \n",
       "4            271          274.335313     -3.335313        274.379490   \n",
       "..           ...                 ...           ...               ...   \n",
       "182          353          351.617294      1.382706        350.985207   \n",
       "183          228          238.519840    -10.519840        237.664091   \n",
       "184          208          210.009020     -2.009020        209.855558   \n",
       "185          235          234.206022      0.793978        234.561934   \n",
       "186          173          178.171850     -5.171850        178.599141   \n",
       "\n",
       "     Ridge_Error  \n",
       "0      15.744715  \n",
       "1      -3.500345  \n",
       "2       4.859522  \n",
       "3       9.426729  \n",
       "4      -3.379490  \n",
       "..           ...  \n",
       "182     2.014793  \n",
       "183    -9.664091  \n",
       "184    -1.855558  \n",
       "185     0.438066  \n",
       "186    -5.599141  \n",
       "\n",
       "[187 rows x 5 columns]"
      ]
     },
     "execution_count": 68,
     "metadata": {},
     "output_type": "execute_result"
    }
   ],
   "source": [
    "diff = (Y_test-Lm_predication)\n",
    "diff_r = (Y_test-Rg_predicted)\n",
    "comp = pd.DataFrame({\"Actual_Data\":Y_test.flatten(), \"Linear_Predication\":Lm_predication.flatten(), \"Linear_Error\":diff.flatten(),\n",
    "                    \"Ridge_Prediction\": Rg_predicted.flatten(), \"Ridge_Error\":diff_r.flatten()})  \n",
    "comp"
   ]
  },
  {
   "cell_type": "code",
   "execution_count": 71,
   "metadata": {},
   "outputs": [
    {
     "name": "stdout",
     "output_type": "stream",
     "text": [
      "MSE (Linear):  244.06139639308054\n",
      "MSE (Ridge):  237.97678835829402\n"
     ]
    }
   ],
   "source": [
    "print('MSE (Linear): ', mean_squared_error(Y_test,Lm_predication))\n",
    "print(\"MSE (Ridge): \", mean_squared_error(Y_test,Rg_predicted))"
   ]
  },
  {
   "cell_type": "code",
   "execution_count": 72,
   "metadata": {},
   "outputs": [],
   "source": [
    "# Ridge Cross Validation Process\n",
    "from sklearn.linear_model import RidgeCV"
   ]
  },
  {
   "cell_type": "code",
   "execution_count": 73,
   "metadata": {},
   "outputs": [],
   "source": [
    "Ridge_CV = RidgeCV()"
   ]
  },
  {
   "cell_type": "code",
   "execution_count": 74,
   "metadata": {},
   "outputs": [
    {
     "data": {
      "text/plain": [
       "RidgeCV(alphas=array([ 0.1,  1. , 10. ]))"
      ]
     },
     "execution_count": 74,
     "metadata": {},
     "output_type": "execute_result"
    }
   ],
   "source": [
    "Ridge_CV.fit(X_train,Y_train)   # Train Data"
   ]
  },
  {
   "cell_type": "code",
   "execution_count": 75,
   "metadata": {},
   "outputs": [
    {
     "data": {
      "text/plain": [
       "array([[  0.        ,   1.48767746,   3.46787739, -14.4304524 ,\n",
       "        -11.69051107,  41.15408191,  -1.67313045]])"
      ]
     },
     "execution_count": 75,
     "metadata": {},
     "output_type": "execute_result"
    }
   ],
   "source": [
    "Ridge_CV.coef_"
   ]
  },
  {
   "cell_type": "code",
   "execution_count": 76,
   "metadata": {},
   "outputs": [
    {
     "data": {
      "text/plain": [
       "array([113.68641364])"
      ]
     },
     "execution_count": 76,
     "metadata": {},
     "output_type": "execute_result"
    }
   ],
   "source": [
    "Ridge_CV.intercept_"
   ]
  },
  {
   "cell_type": "code",
   "execution_count": 77,
   "metadata": {},
   "outputs": [],
   "source": [
    "Ridge_CV_predication = Ridge_CV.predict(X_test)  ## Test Data"
   ]
  },
  {
   "cell_type": "code",
   "execution_count": 78,
   "metadata": {},
   "outputs": [
    {
     "data": {
      "text/html": [
       "<div>\n",
       "<style scoped>\n",
       "    .dataframe tbody tr th:only-of-type {\n",
       "        vertical-align: middle;\n",
       "    }\n",
       "\n",
       "    .dataframe tbody tr th {\n",
       "        vertical-align: top;\n",
       "    }\n",
       "\n",
       "    .dataframe thead th {\n",
       "        text-align: right;\n",
       "    }\n",
       "</style>\n",
       "<table border=\"1\" class=\"dataframe\">\n",
       "  <thead>\n",
       "    <tr style=\"text-align: right;\">\n",
       "      <th></th>\n",
       "      <th>Actual_Data</th>\n",
       "      <th>Linear_Predication</th>\n",
       "      <th>Linear_Error</th>\n",
       "      <th>Ridge_Prediction</th>\n",
       "      <th>Ridge_Error</th>\n",
       "      <th>Ridge_CV_Prediction</th>\n",
       "      <th>Ridge_CV_Error</th>\n",
       "    </tr>\n",
       "  </thead>\n",
       "  <tbody>\n",
       "    <tr>\n",
       "      <th>0</th>\n",
       "      <td>382</td>\n",
       "      <td>366.600815</td>\n",
       "      <td>15.399185</td>\n",
       "      <td>366.255285</td>\n",
       "      <td>15.744715</td>\n",
       "      <td>366.524111</td>\n",
       "      <td>15.475889</td>\n",
       "    </tr>\n",
       "    <tr>\n",
       "      <th>1</th>\n",
       "      <td>179</td>\n",
       "      <td>181.669438</td>\n",
       "      <td>-2.669438</td>\n",
       "      <td>182.500345</td>\n",
       "      <td>-3.500345</td>\n",
       "      <td>181.856250</td>\n",
       "      <td>-2.856250</td>\n",
       "    </tr>\n",
       "    <tr>\n",
       "      <th>2</th>\n",
       "      <td>263</td>\n",
       "      <td>258.653136</td>\n",
       "      <td>4.346864</td>\n",
       "      <td>258.140478</td>\n",
       "      <td>4.859522</td>\n",
       "      <td>258.537461</td>\n",
       "      <td>4.462539</td>\n",
       "    </tr>\n",
       "    <tr>\n",
       "      <th>3</th>\n",
       "      <td>318</td>\n",
       "      <td>309.116717</td>\n",
       "      <td>8.883283</td>\n",
       "      <td>308.573271</td>\n",
       "      <td>9.426729</td>\n",
       "      <td>308.994349</td>\n",
       "      <td>9.005651</td>\n",
       "    </tr>\n",
       "    <tr>\n",
       "      <th>4</th>\n",
       "      <td>271</td>\n",
       "      <td>274.335313</td>\n",
       "      <td>-3.335313</td>\n",
       "      <td>274.379490</td>\n",
       "      <td>-3.379490</td>\n",
       "      <td>274.344666</td>\n",
       "      <td>-3.344666</td>\n",
       "    </tr>\n",
       "    <tr>\n",
       "      <th>...</th>\n",
       "      <td>...</td>\n",
       "      <td>...</td>\n",
       "      <td>...</td>\n",
       "      <td>...</td>\n",
       "      <td>...</td>\n",
       "      <td>...</td>\n",
       "      <td>...</td>\n",
       "    </tr>\n",
       "    <tr>\n",
       "      <th>182</th>\n",
       "      <td>353</td>\n",
       "      <td>351.617294</td>\n",
       "      <td>1.382706</td>\n",
       "      <td>350.985207</td>\n",
       "      <td>2.014793</td>\n",
       "      <td>351.476174</td>\n",
       "      <td>1.523826</td>\n",
       "    </tr>\n",
       "    <tr>\n",
       "      <th>183</th>\n",
       "      <td>228</td>\n",
       "      <td>238.519840</td>\n",
       "      <td>-10.519840</td>\n",
       "      <td>237.664091</td>\n",
       "      <td>-9.664091</td>\n",
       "      <td>238.326781</td>\n",
       "      <td>-10.326781</td>\n",
       "    </tr>\n",
       "    <tr>\n",
       "      <th>184</th>\n",
       "      <td>208</td>\n",
       "      <td>210.009020</td>\n",
       "      <td>-2.009020</td>\n",
       "      <td>209.855558</td>\n",
       "      <td>-1.855558</td>\n",
       "      <td>209.973614</td>\n",
       "      <td>-1.973614</td>\n",
       "    </tr>\n",
       "    <tr>\n",
       "      <th>185</th>\n",
       "      <td>235</td>\n",
       "      <td>234.206022</td>\n",
       "      <td>0.793978</td>\n",
       "      <td>234.561934</td>\n",
       "      <td>0.438066</td>\n",
       "      <td>234.285735</td>\n",
       "      <td>0.714265</td>\n",
       "    </tr>\n",
       "    <tr>\n",
       "      <th>186</th>\n",
       "      <td>173</td>\n",
       "      <td>178.171850</td>\n",
       "      <td>-5.171850</td>\n",
       "      <td>178.599141</td>\n",
       "      <td>-5.599141</td>\n",
       "      <td>178.267403</td>\n",
       "      <td>-5.267403</td>\n",
       "    </tr>\n",
       "  </tbody>\n",
       "</table>\n",
       "<p>187 rows × 7 columns</p>\n",
       "</div>"
      ],
      "text/plain": [
       "     Actual_Data  Linear_Predication  Linear_Error  Ridge_Prediction  \\\n",
       "0            382          366.600815     15.399185        366.255285   \n",
       "1            179          181.669438     -2.669438        182.500345   \n",
       "2            263          258.653136      4.346864        258.140478   \n",
       "3            318          309.116717      8.883283        308.573271   \n",
       "4            271          274.335313     -3.335313        274.379490   \n",
       "..           ...                 ...           ...               ...   \n",
       "182          353          351.617294      1.382706        350.985207   \n",
       "183          228          238.519840    -10.519840        237.664091   \n",
       "184          208          210.009020     -2.009020        209.855558   \n",
       "185          235          234.206022      0.793978        234.561934   \n",
       "186          173          178.171850     -5.171850        178.599141   \n",
       "\n",
       "     Ridge_Error  Ridge_CV_Prediction  Ridge_CV_Error  \n",
       "0      15.744715           366.524111       15.475889  \n",
       "1      -3.500345           181.856250       -2.856250  \n",
       "2       4.859522           258.537461        4.462539  \n",
       "3       9.426729           308.994349        9.005651  \n",
       "4      -3.379490           274.344666       -3.344666  \n",
       "..           ...                  ...             ...  \n",
       "182     2.014793           351.476174        1.523826  \n",
       "183    -9.664091           238.326781      -10.326781  \n",
       "184    -1.855558           209.973614       -1.973614  \n",
       "185     0.438066           234.285735        0.714265  \n",
       "186    -5.599141           178.267403       -5.267403  \n",
       "\n",
       "[187 rows x 7 columns]"
      ]
     },
     "execution_count": 78,
     "metadata": {},
     "output_type": "execute_result"
    }
   ],
   "source": [
    "diff = (Y_test-Lm_predication)\n",
    "diff_r = (Y_test-Rg_predicted)\n",
    "diff_r_cv = (Y_test-Ridge_CV_predication)\n",
    "comp = pd.DataFrame({\"Actual_Data\":Y_test.flatten(), \"Linear_Predication\":Lm_predication.flatten(), \"Linear_Error\":diff.flatten(),\n",
    "                    \"Ridge_Prediction\": Rg_predicted.flatten(), \"Ridge_Error\":diff_r.flatten(),\n",
    "                    \"Ridge_CV_Prediction\": Ridge_CV_predication.flatten(), \"Ridge_CV_Error\":diff_r_cv.flatten()})  \n",
    "comp"
   ]
  },
  {
   "cell_type": "code",
   "execution_count": 79,
   "metadata": {},
   "outputs": [
    {
     "name": "stdout",
     "output_type": "stream",
     "text": [
      "MSE (Linear):  244.06139639308054\n",
      "MSE (Ridge):  237.97678835829402\n",
      "MSE (Ridge_CV):  242.33520316288107\n"
     ]
    }
   ],
   "source": [
    "print('MSE (Linear): ', mean_squared_error(Y_test,Lm_predication))\n",
    "print(\"MSE (Ridge): \", mean_squared_error(Y_test,Rg_predicted))\n",
    "print(\"MSE (Ridge_CV): \", mean_squared_error(Y_test,Ridge_CV_predication))"
   ]
  },
  {
   "cell_type": "code",
   "execution_count": 80,
   "metadata": {},
   "outputs": [
    {
     "data": {
      "text/plain": [
       "array([0.9643185 , 0.93402274, 0.90486084, 0.98676937, 0.96906634,\n",
       "       0.89488963, 0.92755208, 0.96249339, 0.98691257, 0.98986961,\n",
       "       0.98133376, 0.87279598, 0.99395124, 0.98300875, 0.94183924,\n",
       "       0.96067645, 0.93280536, 0.85291572, 0.9880214 , 0.94041751])"
      ]
     },
     "execution_count": 80,
     "metadata": {},
     "output_type": "execute_result"
    }
   ],
   "source": [
    "CV = cross_val_score(Ridge_CV,X_train,Y_train,cv=20)\n",
    "CV"
   ]
  },
  {
   "cell_type": "code",
   "execution_count": 81,
   "metadata": {},
   "outputs": [
    {
     "data": {
      "text/plain": [
       "0.8529157156588253"
      ]
     },
     "execution_count": 81,
     "metadata": {},
     "output_type": "execute_result"
    }
   ],
   "source": [
    "np.min(CV)"
   ]
  },
  {
   "cell_type": "code",
   "execution_count": 82,
   "metadata": {},
   "outputs": [
    {
     "data": {
      "text/plain": [
       "0.9939512409599431"
      ]
     },
     "execution_count": 82,
     "metadata": {},
     "output_type": "execute_result"
    }
   ],
   "source": [
    "np.max(CV)"
   ]
  },
  {
   "cell_type": "code",
   "execution_count": 83,
   "metadata": {},
   "outputs": [
    {
     "data": {
      "text/plain": [
       "0.9484260235850808"
      ]
     },
     "execution_count": 83,
     "metadata": {},
     "output_type": "execute_result"
    }
   ],
   "source": [
    "np.mean(CV)"
   ]
  },
  {
   "cell_type": "markdown",
   "metadata": {},
   "source": [
    "## Lasso(L1):\n",
    "\n",
    "Lasso Formula: Lasso = Sum of Error + Sum of the absolute value of coefficients"
   ]
  },
  {
   "cell_type": "code",
   "execution_count": 84,
   "metadata": {},
   "outputs": [],
   "source": [
    "from sklearn.linear_model import Lasso"
   ]
  },
  {
   "cell_type": "code",
   "execution_count": 85,
   "metadata": {},
   "outputs": [],
   "source": [
    "ls = Lasso(alpha=1.0)"
   ]
  },
  {
   "cell_type": "code",
   "execution_count": 86,
   "metadata": {},
   "outputs": [
    {
     "data": {
      "text/plain": [
       "Lasso()"
      ]
     },
     "execution_count": 86,
     "metadata": {},
     "output_type": "execute_result"
    }
   ],
   "source": [
    "ls.fit(X_train,Y_train)"
   ]
  },
  {
   "cell_type": "code",
   "execution_count": 88,
   "metadata": {},
   "outputs": [],
   "source": [
    "Lasso_Train_Score = ls.score(X_train,Y_train)"
   ]
  },
  {
   "cell_type": "code",
   "execution_count": 90,
   "metadata": {},
   "outputs": [
    {
     "name": "stdout",
     "output_type": "stream",
     "text": [
      "Train Score For Lasso:  0.9527444938176864\n"
     ]
    }
   ],
   "source": [
    "print(\"Train Score For Lasso: \",Lasso_Train_Score)"
   ]
  },
  {
   "cell_type": "code",
   "execution_count": 92,
   "metadata": {},
   "outputs": [],
   "source": [
    "Lasso_Test_Score = ls.score(X_test,Y_test)"
   ]
  },
  {
   "cell_type": "code",
   "execution_count": 93,
   "metadata": {},
   "outputs": [
    {
     "name": "stdout",
     "output_type": "stream",
     "text": [
      "Test Score For Lasso:  0.949767759904405\n"
     ]
    }
   ],
   "source": [
    "print(\"Test Score For Lasso: \",Lasso_Test_Score)"
   ]
  },
  {
   "cell_type": "code",
   "execution_count": 94,
   "metadata": {},
   "outputs": [
    {
     "data": {
      "text/plain": [
       "array([ 0.        ,  0.        ,  3.676212  ,  4.29481659,  2.36557412,\n",
       "        8.16269855, -1.77215595])"
      ]
     },
     "execution_count": 94,
     "metadata": {},
     "output_type": "execute_result"
    }
   ],
   "source": [
    "ls.coef_"
   ]
  },
  {
   "cell_type": "code",
   "execution_count": 95,
   "metadata": {},
   "outputs": [
    {
     "data": {
      "text/html": [
       "<div>\n",
       "<style scoped>\n",
       "    .dataframe tbody tr th:only-of-type {\n",
       "        vertical-align: middle;\n",
       "    }\n",
       "\n",
       "    .dataframe tbody tr th {\n",
       "        vertical-align: top;\n",
       "    }\n",
       "\n",
       "    .dataframe thead th {\n",
       "        text-align: right;\n",
       "    }\n",
       "</style>\n",
       "<table border=\"1\" class=\"dataframe\">\n",
       "  <thead>\n",
       "    <tr style=\"text-align: right;\">\n",
       "      <th></th>\n",
       "      <th>Features</th>\n",
       "      <th>Linear_Coefficent</th>\n",
       "      <th>Ridge_Coefficent</th>\n",
       "      <th>Lasso_Coefficient</th>\n",
       "    </tr>\n",
       "  </thead>\n",
       "  <tbody>\n",
       "    <tr>\n",
       "      <th>0</th>\n",
       "      <td>Year</td>\n",
       "      <td>0.000000</td>\n",
       "      <td>0.000000</td>\n",
       "      <td>0.000000</td>\n",
       "    </tr>\n",
       "    <tr>\n",
       "      <th>1</th>\n",
       "      <td>Engine Size</td>\n",
       "      <td>1.501673</td>\n",
       "      <td>1.442171</td>\n",
       "      <td>0.000000</td>\n",
       "    </tr>\n",
       "    <tr>\n",
       "      <th>2</th>\n",
       "      <td>Cylinders</td>\n",
       "      <td>3.476018</td>\n",
       "      <td>3.438349</td>\n",
       "      <td>3.676212</td>\n",
       "    </tr>\n",
       "    <tr>\n",
       "      <th>3</th>\n",
       "      <td>FuelConsumptionCity(L)</td>\n",
       "      <td>-17.646149</td>\n",
       "      <td>-3.359872</td>\n",
       "      <td>4.294817</td>\n",
       "    </tr>\n",
       "    <tr>\n",
       "      <th>4</th>\n",
       "      <td>FuelConsumptionHwy(L)</td>\n",
       "      <td>-14.308822</td>\n",
       "      <td>-2.678233</td>\n",
       "      <td>2.365574</td>\n",
       "    </tr>\n",
       "    <tr>\n",
       "      <th>5</th>\n",
       "      <td>FuelConsumptionComb(L)</td>\n",
       "      <td>46.980479</td>\n",
       "      <td>21.094083</td>\n",
       "      <td>8.162699</td>\n",
       "    </tr>\n",
       "    <tr>\n",
       "      <th>6</th>\n",
       "      <td>FuelConsumptionComb(mpg)</td>\n",
       "      <td>-1.673007</td>\n",
       "      <td>-1.674425</td>\n",
       "      <td>-1.772156</td>\n",
       "    </tr>\n",
       "  </tbody>\n",
       "</table>\n",
       "</div>"
      ],
      "text/plain": [
       "                   Features  Linear_Coefficent  Ridge_Coefficent  \\\n",
       "0                      Year           0.000000          0.000000   \n",
       "1               Engine Size           1.501673          1.442171   \n",
       "2                 Cylinders           3.476018          3.438349   \n",
       "3    FuelConsumptionCity(L)         -17.646149         -3.359872   \n",
       "4     FuelConsumptionHwy(L)         -14.308822         -2.678233   \n",
       "5    FuelConsumptionComb(L)          46.980479         21.094083   \n",
       "6  FuelConsumptionComb(mpg)          -1.673007         -1.674425   \n",
       "\n",
       "   Lasso_Coefficient  \n",
       "0           0.000000  \n",
       "1           0.000000  \n",
       "2           3.676212  \n",
       "3           4.294817  \n",
       "4           2.365574  \n",
       "5           8.162699  \n",
       "6          -1.772156  "
      ]
     },
     "execution_count": 95,
     "metadata": {},
     "output_type": "execute_result"
    }
   ],
   "source": [
    "pd.DataFrame({\"Features\":X_names, \"Linear_Coefficent\":lm.coef_.flatten(), \n",
    "              \"Ridge_Coefficent\":Rg.coef_.flatten(), \"Lasso_Coefficient\":ls.coef_.flatten() })"
   ]
  },
  {
   "cell_type": "code",
   "execution_count": 96,
   "metadata": {},
   "outputs": [],
   "source": [
    "ls_predication = ls.predict(X_test)"
   ]
  },
  {
   "cell_type": "code",
   "execution_count": 97,
   "metadata": {},
   "outputs": [
    {
     "data": {
      "text/plain": [
       "243.8669258843185"
      ]
     },
     "execution_count": 97,
     "metadata": {},
     "output_type": "execute_result"
    }
   ],
   "source": [
    "Lasso_Error = mean_squared_error(Y_test,ls_predication)\n",
    "Lasso_Error"
   ]
  },
  {
   "cell_type": "code",
   "execution_count": 115,
   "metadata": {},
   "outputs": [
    {
     "data": {
      "text/html": [
       "<div>\n",
       "<style scoped>\n",
       "    .dataframe tbody tr th:only-of-type {\n",
       "        vertical-align: middle;\n",
       "    }\n",
       "\n",
       "    .dataframe tbody tr th {\n",
       "        vertical-align: top;\n",
       "    }\n",
       "\n",
       "    .dataframe thead th {\n",
       "        text-align: right;\n",
       "    }\n",
       "</style>\n",
       "<table border=\"1\" class=\"dataframe\">\n",
       "  <thead>\n",
       "    <tr style=\"text-align: right;\">\n",
       "      <th></th>\n",
       "      <th>Actual_Data</th>\n",
       "      <th>Linear_Predication</th>\n",
       "      <th>Ridge_Prediction</th>\n",
       "      <th>Ridge_CV_Prediction</th>\n",
       "      <th>Lasso_Prediction</th>\n",
       "    </tr>\n",
       "  </thead>\n",
       "  <tbody>\n",
       "    <tr>\n",
       "      <th>0</th>\n",
       "      <td>382</td>\n",
       "      <td>366.600815</td>\n",
       "      <td>366.255285</td>\n",
       "      <td>366.524111</td>\n",
       "      <td>363.225919</td>\n",
       "    </tr>\n",
       "    <tr>\n",
       "      <th>1</th>\n",
       "      <td>179</td>\n",
       "      <td>181.669438</td>\n",
       "      <td>182.500345</td>\n",
       "      <td>181.856250</td>\n",
       "      <td>183.090429</td>\n",
       "    </tr>\n",
       "    <tr>\n",
       "      <th>2</th>\n",
       "      <td>263</td>\n",
       "      <td>258.653136</td>\n",
       "      <td>258.140478</td>\n",
       "      <td>258.537461</td>\n",
       "      <td>257.289940</td>\n",
       "    </tr>\n",
       "    <tr>\n",
       "      <th>3</th>\n",
       "      <td>318</td>\n",
       "      <td>309.116717</td>\n",
       "      <td>308.573271</td>\n",
       "      <td>308.994349</td>\n",
       "      <td>307.087297</td>\n",
       "    </tr>\n",
       "    <tr>\n",
       "      <th>4</th>\n",
       "      <td>271</td>\n",
       "      <td>274.335313</td>\n",
       "      <td>274.379490</td>\n",
       "      <td>274.344666</td>\n",
       "      <td>273.457668</td>\n",
       "    </tr>\n",
       "    <tr>\n",
       "      <th>...</th>\n",
       "      <td>...</td>\n",
       "      <td>...</td>\n",
       "      <td>...</td>\n",
       "      <td>...</td>\n",
       "      <td>...</td>\n",
       "    </tr>\n",
       "    <tr>\n",
       "      <th>182</th>\n",
       "      <td>353</td>\n",
       "      <td>351.617294</td>\n",
       "      <td>350.985207</td>\n",
       "      <td>351.476174</td>\n",
       "      <td>350.316603</td>\n",
       "    </tr>\n",
       "    <tr>\n",
       "      <th>183</th>\n",
       "      <td>228</td>\n",
       "      <td>238.519840</td>\n",
       "      <td>237.664091</td>\n",
       "      <td>238.326781</td>\n",
       "      <td>237.871694</td>\n",
       "    </tr>\n",
       "    <tr>\n",
       "      <th>184</th>\n",
       "      <td>208</td>\n",
       "      <td>210.009020</td>\n",
       "      <td>209.855558</td>\n",
       "      <td>209.973614</td>\n",
       "      <td>210.230422</td>\n",
       "    </tr>\n",
       "    <tr>\n",
       "      <th>185</th>\n",
       "      <td>235</td>\n",
       "      <td>234.206022</td>\n",
       "      <td>234.561934</td>\n",
       "      <td>234.285735</td>\n",
       "      <td>234.229398</td>\n",
       "    </tr>\n",
       "    <tr>\n",
       "      <th>186</th>\n",
       "      <td>173</td>\n",
       "      <td>178.171850</td>\n",
       "      <td>178.599141</td>\n",
       "      <td>178.267403</td>\n",
       "      <td>178.695871</td>\n",
       "    </tr>\n",
       "  </tbody>\n",
       "</table>\n",
       "<p>187 rows × 5 columns</p>\n",
       "</div>"
      ],
      "text/plain": [
       "     Actual_Data  Linear_Predication  Ridge_Prediction  Ridge_CV_Prediction  \\\n",
       "0            382          366.600815        366.255285           366.524111   \n",
       "1            179          181.669438        182.500345           181.856250   \n",
       "2            263          258.653136        258.140478           258.537461   \n",
       "3            318          309.116717        308.573271           308.994349   \n",
       "4            271          274.335313        274.379490           274.344666   \n",
       "..           ...                 ...               ...                  ...   \n",
       "182          353          351.617294        350.985207           351.476174   \n",
       "183          228          238.519840        237.664091           238.326781   \n",
       "184          208          210.009020        209.855558           209.973614   \n",
       "185          235          234.206022        234.561934           234.285735   \n",
       "186          173          178.171850        178.599141           178.267403   \n",
       "\n",
       "     Lasso_Prediction  \n",
       "0          363.225919  \n",
       "1          183.090429  \n",
       "2          257.289940  \n",
       "3          307.087297  \n",
       "4          273.457668  \n",
       "..                ...  \n",
       "182        350.316603  \n",
       "183        237.871694  \n",
       "184        210.230422  \n",
       "185        234.229398  \n",
       "186        178.695871  \n",
       "\n",
       "[187 rows x 5 columns]"
      ]
     },
     "execution_count": 115,
     "metadata": {},
     "output_type": "execute_result"
    }
   ],
   "source": [
    "diff_lasso = (Y_test-ls_predication)\n",
    "comp = pd.DataFrame({\"Actual_Data\":Y_test.flatten(), \"Linear_Predication\":Lm_predication.flatten(), \n",
    "                    \"Ridge_Prediction\": Rg_predicted.flatten(), \n",
    "                    \"Ridge_CV_Prediction\": Ridge_CV_predication.flatten(), \n",
    "                    \"Lasso_Prediction\": ls_predication.flatten()})  \n",
    "comp"
   ]
  },
  {
   "cell_type": "code",
   "execution_count": 108,
   "metadata": {},
   "outputs": [
    {
     "name": "stdout",
     "output_type": "stream",
     "text": [
      "MSE (Linear):  244.06139639308054\n",
      "MSE (Ridge):  237.97678835829402\n",
      "MSE (Ridge_CV):  242.33520316288107\n",
      "MSE (Lasso):  243.8669258843185\n"
     ]
    }
   ],
   "source": [
    "print('MSE (Linear): ', mean_squared_error(Y_test,Lm_predication))\n",
    "print(\"MSE (Ridge): \", mean_squared_error(Y_test,Rg_predicted))\n",
    "print(\"MSE (Ridge_CV): \", mean_squared_error(Y_test,Ridge_CV_predication))\n",
    "print(\"MSE (Lasso): \", mean_squared_error(Y_test,ls_predication))"
   ]
  },
  {
   "cell_type": "code",
   "execution_count": 116,
   "metadata": {},
   "outputs": [],
   "source": [
    "## Lasso Cross Validation\n",
    "from sklearn.linear_model import LassoCV"
   ]
  },
  {
   "cell_type": "code",
   "execution_count": 117,
   "metadata": {},
   "outputs": [],
   "source": [
    "Lasso_cv = LassoCV(alphas=[0.1,1])"
   ]
  },
  {
   "cell_type": "code",
   "execution_count": 118,
   "metadata": {},
   "outputs": [
    {
     "data": {
      "text/plain": [
       "LassoCV(alphas=[0.1, 1])"
      ]
     },
     "execution_count": 118,
     "metadata": {},
     "output_type": "execute_result"
    }
   ],
   "source": [
    "Lasso_cv.fit(X_train,Y_train)"
   ]
  },
  {
   "cell_type": "code",
   "execution_count": 119,
   "metadata": {},
   "outputs": [],
   "source": [
    "Lasso_cv_Predictation = Lasso_cv.predict(X_test)"
   ]
  },
  {
   "cell_type": "code",
   "execution_count": 120,
   "metadata": {},
   "outputs": [
    {
     "data": {
      "text/html": [
       "<div>\n",
       "<style scoped>\n",
       "    .dataframe tbody tr th:only-of-type {\n",
       "        vertical-align: middle;\n",
       "    }\n",
       "\n",
       "    .dataframe tbody tr th {\n",
       "        vertical-align: top;\n",
       "    }\n",
       "\n",
       "    .dataframe thead th {\n",
       "        text-align: right;\n",
       "    }\n",
       "</style>\n",
       "<table border=\"1\" class=\"dataframe\">\n",
       "  <thead>\n",
       "    <tr style=\"text-align: right;\">\n",
       "      <th></th>\n",
       "      <th>Actual_Data</th>\n",
       "      <th>Linear_Predication</th>\n",
       "      <th>Ridge_Prediction</th>\n",
       "      <th>Ridge_CV_Prediction</th>\n",
       "      <th>Lasso_Prediction</th>\n",
       "      <th>Lasso_CV_Prediction</th>\n",
       "    </tr>\n",
       "  </thead>\n",
       "  <tbody>\n",
       "    <tr>\n",
       "      <th>0</th>\n",
       "      <td>382</td>\n",
       "      <td>366.600815</td>\n",
       "      <td>366.255285</td>\n",
       "      <td>366.524111</td>\n",
       "      <td>363.225919</td>\n",
       "      <td>365.861453</td>\n",
       "    </tr>\n",
       "    <tr>\n",
       "      <th>1</th>\n",
       "      <td>179</td>\n",
       "      <td>181.669438</td>\n",
       "      <td>182.500345</td>\n",
       "      <td>181.856250</td>\n",
       "      <td>183.090429</td>\n",
       "      <td>182.933047</td>\n",
       "    </tr>\n",
       "    <tr>\n",
       "      <th>2</th>\n",
       "      <td>263</td>\n",
       "      <td>258.653136</td>\n",
       "      <td>258.140478</td>\n",
       "      <td>258.537461</td>\n",
       "      <td>257.289940</td>\n",
       "      <td>257.830854</td>\n",
       "    </tr>\n",
       "    <tr>\n",
       "      <th>3</th>\n",
       "      <td>318</td>\n",
       "      <td>309.116717</td>\n",
       "      <td>308.573271</td>\n",
       "      <td>308.994349</td>\n",
       "      <td>307.087297</td>\n",
       "      <td>308.193661</td>\n",
       "    </tr>\n",
       "    <tr>\n",
       "      <th>4</th>\n",
       "      <td>271</td>\n",
       "      <td>274.335313</td>\n",
       "      <td>274.379490</td>\n",
       "      <td>274.344666</td>\n",
       "      <td>273.457668</td>\n",
       "      <td>274.280165</td>\n",
       "    </tr>\n",
       "    <tr>\n",
       "      <th>...</th>\n",
       "      <td>...</td>\n",
       "      <td>...</td>\n",
       "      <td>...</td>\n",
       "      <td>...</td>\n",
       "      <td>...</td>\n",
       "      <td>...</td>\n",
       "    </tr>\n",
       "    <tr>\n",
       "      <th>182</th>\n",
       "      <td>353</td>\n",
       "      <td>351.617294</td>\n",
       "      <td>350.985207</td>\n",
       "      <td>351.476174</td>\n",
       "      <td>350.316603</td>\n",
       "      <td>350.643352</td>\n",
       "    </tr>\n",
       "    <tr>\n",
       "      <th>183</th>\n",
       "      <td>228</td>\n",
       "      <td>238.519840</td>\n",
       "      <td>237.664091</td>\n",
       "      <td>238.326781</td>\n",
       "      <td>237.871694</td>\n",
       "      <td>237.247543</td>\n",
       "    </tr>\n",
       "    <tr>\n",
       "      <th>184</th>\n",
       "      <td>208</td>\n",
       "      <td>210.009020</td>\n",
       "      <td>209.855558</td>\n",
       "      <td>209.973614</td>\n",
       "      <td>210.230422</td>\n",
       "      <td>209.793463</td>\n",
       "    </tr>\n",
       "    <tr>\n",
       "      <th>185</th>\n",
       "      <td>235</td>\n",
       "      <td>234.206022</td>\n",
       "      <td>234.561934</td>\n",
       "      <td>234.285735</td>\n",
       "      <td>234.229398</td>\n",
       "      <td>234.688862</td>\n",
       "    </tr>\n",
       "    <tr>\n",
       "      <th>186</th>\n",
       "      <td>173</td>\n",
       "      <td>178.171850</td>\n",
       "      <td>178.599141</td>\n",
       "      <td>178.267403</td>\n",
       "      <td>178.695871</td>\n",
       "      <td>178.782530</td>\n",
       "    </tr>\n",
       "  </tbody>\n",
       "</table>\n",
       "<p>187 rows × 6 columns</p>\n",
       "</div>"
      ],
      "text/plain": [
       "     Actual_Data  Linear_Predication  Ridge_Prediction  Ridge_CV_Prediction  \\\n",
       "0            382          366.600815        366.255285           366.524111   \n",
       "1            179          181.669438        182.500345           181.856250   \n",
       "2            263          258.653136        258.140478           258.537461   \n",
       "3            318          309.116717        308.573271           308.994349   \n",
       "4            271          274.335313        274.379490           274.344666   \n",
       "..           ...                 ...               ...                  ...   \n",
       "182          353          351.617294        350.985207           351.476174   \n",
       "183          228          238.519840        237.664091           238.326781   \n",
       "184          208          210.009020        209.855558           209.973614   \n",
       "185          235          234.206022        234.561934           234.285735   \n",
       "186          173          178.171850        178.599141           178.267403   \n",
       "\n",
       "     Lasso_Prediction  Lasso_CV_Prediction  \n",
       "0          363.225919           365.861453  \n",
       "1          183.090429           182.933047  \n",
       "2          257.289940           257.830854  \n",
       "3          307.087297           308.193661  \n",
       "4          273.457668           274.280165  \n",
       "..                ...                  ...  \n",
       "182        350.316603           350.643352  \n",
       "183        237.871694           237.247543  \n",
       "184        210.230422           209.793463  \n",
       "185        234.229398           234.688862  \n",
       "186        178.695871           178.782530  \n",
       "\n",
       "[187 rows x 6 columns]"
      ]
     },
     "execution_count": 120,
     "metadata": {},
     "output_type": "execute_result"
    }
   ],
   "source": [
    "comp = pd.DataFrame({\"Actual_Data\":Y_test.flatten(), \"Linear_Predication\":Lm_predication.flatten(), \n",
    "                    \"Ridge_Prediction\": Rg_predicted.flatten(), \n",
    "                    \"Ridge_CV_Prediction\": Ridge_CV_predication.flatten(), \n",
    "                    \"Lasso_Prediction\": ls_predication.flatten(),\n",
    "                    \"Lasso_CV_Prediction\": Lasso_cv_Predictation.flatten()})  \n",
    "comp"
   ]
  },
  {
   "cell_type": "code",
   "execution_count": 121,
   "metadata": {},
   "outputs": [
    {
     "name": "stdout",
     "output_type": "stream",
     "text": [
      "MSE (Linear):  244.06139639308054\n",
      "MSE (Ridge):  237.97678835829402\n",
      "MSE (Ridge_CV):  242.33520316288107\n",
      "MSE (Lasso):  243.8669258843185\n",
      "MSE (Lasso_CV):  236.89250210582628\n"
     ]
    }
   ],
   "source": [
    "print('MSE (Linear): ', mean_squared_error(Y_test,Lm_predication))\n",
    "print(\"MSE (Ridge): \", mean_squared_error(Y_test,Rg_predicted))\n",
    "print(\"MSE (Ridge_CV): \", mean_squared_error(Y_test,Ridge_CV_predication))\n",
    "print(\"MSE (Lasso): \", mean_squared_error(Y_test,ls_predication))\n",
    "print(\"MSE (Lasso_CV): \", mean_squared_error(Y_test,Lasso_cv_Predictation))"
   ]
  },
  {
   "cell_type": "markdown",
   "metadata": {},
   "source": [
    "## Elastic Net Formula: Ridge + Lasso\n",
    "Elastic Net combines characteristics of both lasso and ridge. Elastic Net reduces the impact of different features while not eliminating all of the features."
   ]
  },
  {
   "cell_type": "code",
   "execution_count": 122,
   "metadata": {},
   "outputs": [],
   "source": [
    "from sklearn.linear_model import ElasticNet,ElasticNetCV"
   ]
  },
  {
   "cell_type": "code",
   "execution_count": 123,
   "metadata": {},
   "outputs": [],
   "source": [
    "Enet = ElasticNet(alpha=0.1,l1_ratio=0.5) "
   ]
  },
  {
   "cell_type": "code",
   "execution_count": 124,
   "metadata": {},
   "outputs": [
    {
     "data": {
      "text/plain": [
       "ElasticNet(alpha=0.1)"
      ]
     },
     "execution_count": 124,
     "metadata": {},
     "output_type": "execute_result"
    }
   ],
   "source": [
    "Enet.fit(X_train,Y_train)"
   ]
  },
  {
   "cell_type": "code",
   "execution_count": 125,
   "metadata": {},
   "outputs": [],
   "source": [
    "Enet_predication = Enet.predict(X_test)"
   ]
  },
  {
   "cell_type": "code",
   "execution_count": 126,
   "metadata": {},
   "outputs": [
    {
     "data": {
      "text/html": [
       "<div>\n",
       "<style scoped>\n",
       "    .dataframe tbody tr th:only-of-type {\n",
       "        vertical-align: middle;\n",
       "    }\n",
       "\n",
       "    .dataframe tbody tr th {\n",
       "        vertical-align: top;\n",
       "    }\n",
       "\n",
       "    .dataframe thead th {\n",
       "        text-align: right;\n",
       "    }\n",
       "</style>\n",
       "<table border=\"1\" class=\"dataframe\">\n",
       "  <thead>\n",
       "    <tr style=\"text-align: right;\">\n",
       "      <th></th>\n",
       "      <th>Actual_Data</th>\n",
       "      <th>Linear_Predication</th>\n",
       "      <th>Ridge_Prediction</th>\n",
       "      <th>Ridge_CV_Prediction</th>\n",
       "      <th>Lasso_Prediction</th>\n",
       "      <th>Lasso_CV_Prediction</th>\n",
       "      <th>ENet_Prediction</th>\n",
       "    </tr>\n",
       "  </thead>\n",
       "  <tbody>\n",
       "    <tr>\n",
       "      <th>0</th>\n",
       "      <td>382</td>\n",
       "      <td>366.600815</td>\n",
       "      <td>366.255285</td>\n",
       "      <td>366.524111</td>\n",
       "      <td>363.225919</td>\n",
       "      <td>365.861453</td>\n",
       "      <td>365.605631</td>\n",
       "    </tr>\n",
       "    <tr>\n",
       "      <th>1</th>\n",
       "      <td>179</td>\n",
       "      <td>181.669438</td>\n",
       "      <td>182.500345</td>\n",
       "      <td>181.856250</td>\n",
       "      <td>183.090429</td>\n",
       "      <td>182.933047</td>\n",
       "      <td>183.062736</td>\n",
       "    </tr>\n",
       "    <tr>\n",
       "      <th>2</th>\n",
       "      <td>263</td>\n",
       "      <td>258.653136</td>\n",
       "      <td>258.140478</td>\n",
       "      <td>258.537461</td>\n",
       "      <td>257.289940</td>\n",
       "      <td>257.830854</td>\n",
       "      <td>257.887024</td>\n",
       "    </tr>\n",
       "    <tr>\n",
       "      <th>3</th>\n",
       "      <td>318</td>\n",
       "      <td>309.116717</td>\n",
       "      <td>308.573271</td>\n",
       "      <td>308.994349</td>\n",
       "      <td>307.087297</td>\n",
       "      <td>308.193661</td>\n",
       "      <td>308.191881</td>\n",
       "    </tr>\n",
       "    <tr>\n",
       "      <th>4</th>\n",
       "      <td>271</td>\n",
       "      <td>274.335313</td>\n",
       "      <td>274.379490</td>\n",
       "      <td>274.344666</td>\n",
       "      <td>273.457668</td>\n",
       "      <td>274.280165</td>\n",
       "      <td>274.515840</td>\n",
       "    </tr>\n",
       "    <tr>\n",
       "      <th>...</th>\n",
       "      <td>...</td>\n",
       "      <td>...</td>\n",
       "      <td>...</td>\n",
       "      <td>...</td>\n",
       "      <td>...</td>\n",
       "      <td>...</td>\n",
       "      <td>...</td>\n",
       "    </tr>\n",
       "    <tr>\n",
       "      <th>182</th>\n",
       "      <td>353</td>\n",
       "      <td>351.617294</td>\n",
       "      <td>350.985207</td>\n",
       "      <td>351.476174</td>\n",
       "      <td>350.316603</td>\n",
       "      <td>350.643352</td>\n",
       "      <td>350.282739</td>\n",
       "    </tr>\n",
       "    <tr>\n",
       "      <th>183</th>\n",
       "      <td>228</td>\n",
       "      <td>238.519840</td>\n",
       "      <td>237.664091</td>\n",
       "      <td>238.326781</td>\n",
       "      <td>237.871694</td>\n",
       "      <td>237.247543</td>\n",
       "      <td>237.311873</td>\n",
       "    </tr>\n",
       "    <tr>\n",
       "      <th>184</th>\n",
       "      <td>208</td>\n",
       "      <td>210.009020</td>\n",
       "      <td>209.855558</td>\n",
       "      <td>209.973614</td>\n",
       "      <td>210.230422</td>\n",
       "      <td>209.793463</td>\n",
       "      <td>210.013377</td>\n",
       "    </tr>\n",
       "    <tr>\n",
       "      <th>185</th>\n",
       "      <td>235</td>\n",
       "      <td>234.206022</td>\n",
       "      <td>234.561934</td>\n",
       "      <td>234.285735</td>\n",
       "      <td>234.229398</td>\n",
       "      <td>234.688862</td>\n",
       "      <td>234.862912</td>\n",
       "    </tr>\n",
       "    <tr>\n",
       "      <th>186</th>\n",
       "      <td>173</td>\n",
       "      <td>178.171850</td>\n",
       "      <td>178.599141</td>\n",
       "      <td>178.267403</td>\n",
       "      <td>178.695871</td>\n",
       "      <td>178.782530</td>\n",
       "      <td>179.005488</td>\n",
       "    </tr>\n",
       "  </tbody>\n",
       "</table>\n",
       "<p>187 rows × 7 columns</p>\n",
       "</div>"
      ],
      "text/plain": [
       "     Actual_Data  Linear_Predication  Ridge_Prediction  Ridge_CV_Prediction  \\\n",
       "0            382          366.600815        366.255285           366.524111   \n",
       "1            179          181.669438        182.500345           181.856250   \n",
       "2            263          258.653136        258.140478           258.537461   \n",
       "3            318          309.116717        308.573271           308.994349   \n",
       "4            271          274.335313        274.379490           274.344666   \n",
       "..           ...                 ...               ...                  ...   \n",
       "182          353          351.617294        350.985207           351.476174   \n",
       "183          228          238.519840        237.664091           238.326781   \n",
       "184          208          210.009020        209.855558           209.973614   \n",
       "185          235          234.206022        234.561934           234.285735   \n",
       "186          173          178.171850        178.599141           178.267403   \n",
       "\n",
       "     Lasso_Prediction  Lasso_CV_Prediction  ENet_Prediction  \n",
       "0          363.225919           365.861453       365.605631  \n",
       "1          183.090429           182.933047       183.062736  \n",
       "2          257.289940           257.830854       257.887024  \n",
       "3          307.087297           308.193661       308.191881  \n",
       "4          273.457668           274.280165       274.515840  \n",
       "..                ...                  ...              ...  \n",
       "182        350.316603           350.643352       350.282739  \n",
       "183        237.871694           237.247543       237.311873  \n",
       "184        210.230422           209.793463       210.013377  \n",
       "185        234.229398           234.688862       234.862912  \n",
       "186        178.695871           178.782530       179.005488  \n",
       "\n",
       "[187 rows x 7 columns]"
      ]
     },
     "execution_count": 126,
     "metadata": {},
     "output_type": "execute_result"
    }
   ],
   "source": [
    "comp = pd.DataFrame({\"Actual_Data\":Y_test.flatten(), \"Linear_Predication\":Lm_predication.flatten(), \n",
    "                    \"Ridge_Prediction\": Rg_predicted.flatten(), \n",
    "                    \"Ridge_CV_Prediction\": Ridge_CV_predication.flatten(), \n",
    "                    \"Lasso_Prediction\": ls_predication.flatten(),\n",
    "                    \"Lasso_CV_Prediction\": Lasso_cv_Predictation.flatten(),\n",
    "                    \"ENet_Prediction\": Enet_predication.flatten()})  \n",
    "comp"
   ]
  },
  {
   "cell_type": "code",
   "execution_count": 127,
   "metadata": {},
   "outputs": [],
   "source": [
    "Enet_Train_score = Enet.score(X_train,Y_train)"
   ]
  },
  {
   "cell_type": "code",
   "execution_count": 128,
   "metadata": {},
   "outputs": [
    {
     "data": {
      "text/plain": [
       "0.9529943759341641"
      ]
     },
     "execution_count": 128,
     "metadata": {},
     "output_type": "execute_result"
    }
   ],
   "source": [
    "Enet_Train_score"
   ]
  },
  {
   "cell_type": "code",
   "execution_count": 129,
   "metadata": {},
   "outputs": [],
   "source": [
    "Enet_Test_score =Enet.score(X_test,Enet_predication)"
   ]
  },
  {
   "cell_type": "code",
   "execution_count": 130,
   "metadata": {},
   "outputs": [
    {
     "data": {
      "text/plain": [
       "1.0"
      ]
     },
     "execution_count": 130,
     "metadata": {},
     "output_type": "execute_result"
    }
   ],
   "source": [
    "Enet_Test_score"
   ]
  },
  {
   "cell_type": "code",
   "execution_count": 131,
   "metadata": {},
   "outputs": [],
   "source": [
    "Enet_cv = ElasticNetCV()"
   ]
  },
  {
   "cell_type": "code",
   "execution_count": 132,
   "metadata": {},
   "outputs": [
    {
     "data": {
      "text/plain": [
       "ElasticNetCV()"
      ]
     },
     "execution_count": 132,
     "metadata": {},
     "output_type": "execute_result"
    }
   ],
   "source": [
    "Enet_cv.fit(X_train,Y_train)"
   ]
  },
  {
   "cell_type": "code",
   "execution_count": 133,
   "metadata": {},
   "outputs": [],
   "source": [
    "Enet_cv_predict=Enet_cv.predict(X_test)"
   ]
  },
  {
   "cell_type": "code",
   "execution_count": 134,
   "metadata": {},
   "outputs": [
    {
     "data": {
      "text/html": [
       "<div>\n",
       "<style scoped>\n",
       "    .dataframe tbody tr th:only-of-type {\n",
       "        vertical-align: middle;\n",
       "    }\n",
       "\n",
       "    .dataframe tbody tr th {\n",
       "        vertical-align: top;\n",
       "    }\n",
       "\n",
       "    .dataframe thead th {\n",
       "        text-align: right;\n",
       "    }\n",
       "</style>\n",
       "<table border=\"1\" class=\"dataframe\">\n",
       "  <thead>\n",
       "    <tr style=\"text-align: right;\">\n",
       "      <th></th>\n",
       "      <th>Actual_Data</th>\n",
       "      <th>Linear_Predication</th>\n",
       "      <th>Ridge_Prediction</th>\n",
       "      <th>Ridge_CV_Prediction</th>\n",
       "      <th>Lasso_Prediction</th>\n",
       "      <th>Lasso_CV_Prediction</th>\n",
       "      <th>ENet_Prediction</th>\n",
       "      <th>ENet_CV_Prediction</th>\n",
       "    </tr>\n",
       "  </thead>\n",
       "  <tbody>\n",
       "    <tr>\n",
       "      <th>0</th>\n",
       "      <td>382</td>\n",
       "      <td>366.600815</td>\n",
       "      <td>366.255285</td>\n",
       "      <td>366.524111</td>\n",
       "      <td>363.225919</td>\n",
       "      <td>365.861453</td>\n",
       "      <td>365.605631</td>\n",
       "      <td>362.472111</td>\n",
       "    </tr>\n",
       "    <tr>\n",
       "      <th>1</th>\n",
       "      <td>179</td>\n",
       "      <td>181.669438</td>\n",
       "      <td>182.500345</td>\n",
       "      <td>181.856250</td>\n",
       "      <td>183.090429</td>\n",
       "      <td>182.933047</td>\n",
       "      <td>183.062736</td>\n",
       "      <td>183.591500</td>\n",
       "    </tr>\n",
       "    <tr>\n",
       "      <th>2</th>\n",
       "      <td>263</td>\n",
       "      <td>258.653136</td>\n",
       "      <td>258.140478</td>\n",
       "      <td>258.537461</td>\n",
       "      <td>257.289940</td>\n",
       "      <td>257.830854</td>\n",
       "      <td>257.887024</td>\n",
       "      <td>258.438700</td>\n",
       "    </tr>\n",
       "    <tr>\n",
       "      <th>3</th>\n",
       "      <td>318</td>\n",
       "      <td>309.116717</td>\n",
       "      <td>308.573271</td>\n",
       "      <td>308.994349</td>\n",
       "      <td>307.087297</td>\n",
       "      <td>308.193661</td>\n",
       "      <td>308.191881</td>\n",
       "      <td>307.584493</td>\n",
       "    </tr>\n",
       "    <tr>\n",
       "      <th>4</th>\n",
       "      <td>271</td>\n",
       "      <td>274.335313</td>\n",
       "      <td>274.379490</td>\n",
       "      <td>274.344666</td>\n",
       "      <td>273.457668</td>\n",
       "      <td>274.280165</td>\n",
       "      <td>274.515840</td>\n",
       "      <td>275.157764</td>\n",
       "    </tr>\n",
       "    <tr>\n",
       "      <th>...</th>\n",
       "      <td>...</td>\n",
       "      <td>...</td>\n",
       "      <td>...</td>\n",
       "      <td>...</td>\n",
       "      <td>...</td>\n",
       "      <td>...</td>\n",
       "      <td>...</td>\n",
       "      <td>...</td>\n",
       "    </tr>\n",
       "    <tr>\n",
       "      <th>182</th>\n",
       "      <td>353</td>\n",
       "      <td>351.617294</td>\n",
       "      <td>350.985207</td>\n",
       "      <td>351.476174</td>\n",
       "      <td>350.316603</td>\n",
       "      <td>350.643352</td>\n",
       "      <td>350.282739</td>\n",
       "      <td>348.109254</td>\n",
       "    </tr>\n",
       "    <tr>\n",
       "      <th>183</th>\n",
       "      <td>228</td>\n",
       "      <td>238.519840</td>\n",
       "      <td>237.664091</td>\n",
       "      <td>238.326781</td>\n",
       "      <td>237.871694</td>\n",
       "      <td>237.247543</td>\n",
       "      <td>237.311873</td>\n",
       "      <td>238.380526</td>\n",
       "    </tr>\n",
       "    <tr>\n",
       "      <th>184</th>\n",
       "      <td>208</td>\n",
       "      <td>210.009020</td>\n",
       "      <td>209.855558</td>\n",
       "      <td>209.973614</td>\n",
       "      <td>210.230422</td>\n",
       "      <td>209.793463</td>\n",
       "      <td>210.013377</td>\n",
       "      <td>211.444807</td>\n",
       "    </tr>\n",
       "    <tr>\n",
       "      <th>185</th>\n",
       "      <td>235</td>\n",
       "      <td>234.206022</td>\n",
       "      <td>234.561934</td>\n",
       "      <td>234.285735</td>\n",
       "      <td>234.229398</td>\n",
       "      <td>234.688862</td>\n",
       "      <td>234.862912</td>\n",
       "      <td>235.723545</td>\n",
       "    </tr>\n",
       "    <tr>\n",
       "      <th>186</th>\n",
       "      <td>173</td>\n",
       "      <td>178.171850</td>\n",
       "      <td>178.599141</td>\n",
       "      <td>178.267403</td>\n",
       "      <td>178.695871</td>\n",
       "      <td>178.782530</td>\n",
       "      <td>179.005488</td>\n",
       "      <td>179.715148</td>\n",
       "    </tr>\n",
       "  </tbody>\n",
       "</table>\n",
       "<p>187 rows × 8 columns</p>\n",
       "</div>"
      ],
      "text/plain": [
       "     Actual_Data  Linear_Predication  Ridge_Prediction  Ridge_CV_Prediction  \\\n",
       "0            382          366.600815        366.255285           366.524111   \n",
       "1            179          181.669438        182.500345           181.856250   \n",
       "2            263          258.653136        258.140478           258.537461   \n",
       "3            318          309.116717        308.573271           308.994349   \n",
       "4            271          274.335313        274.379490           274.344666   \n",
       "..           ...                 ...               ...                  ...   \n",
       "182          353          351.617294        350.985207           351.476174   \n",
       "183          228          238.519840        237.664091           238.326781   \n",
       "184          208          210.009020        209.855558           209.973614   \n",
       "185          235          234.206022        234.561934           234.285735   \n",
       "186          173          178.171850        178.599141           178.267403   \n",
       "\n",
       "     Lasso_Prediction  Lasso_CV_Prediction  ENet_Prediction  \\\n",
       "0          363.225919           365.861453       365.605631   \n",
       "1          183.090429           182.933047       183.062736   \n",
       "2          257.289940           257.830854       257.887024   \n",
       "3          307.087297           308.193661       308.191881   \n",
       "4          273.457668           274.280165       274.515840   \n",
       "..                ...                  ...              ...   \n",
       "182        350.316603           350.643352       350.282739   \n",
       "183        237.871694           237.247543       237.311873   \n",
       "184        210.230422           209.793463       210.013377   \n",
       "185        234.229398           234.688862       234.862912   \n",
       "186        178.695871           178.782530       179.005488   \n",
       "\n",
       "     ENet_CV_Prediction  \n",
       "0            362.472111  \n",
       "1            183.591500  \n",
       "2            258.438700  \n",
       "3            307.584493  \n",
       "4            275.157764  \n",
       "..                  ...  \n",
       "182          348.109254  \n",
       "183          238.380526  \n",
       "184          211.444807  \n",
       "185          235.723545  \n",
       "186          179.715148  \n",
       "\n",
       "[187 rows x 8 columns]"
      ]
     },
     "execution_count": 134,
     "metadata": {},
     "output_type": "execute_result"
    }
   ],
   "source": [
    "comp = pd.DataFrame({\"Actual_Data\":Y_test.flatten(), \"Linear_Predication\":Lm_predication.flatten(), \n",
    "                    \"Ridge_Prediction\": Rg_predicted.flatten(), \n",
    "                    \"Ridge_CV_Prediction\": Ridge_CV_predication.flatten(), \n",
    "                    \"Lasso_Prediction\": ls_predication.flatten(),\n",
    "                    \"Lasso_CV_Prediction\": Lasso_cv_Predictation.flatten(),\n",
    "                    \"ENet_Prediction\": Enet_predication.flatten(),\n",
    "                    \"ENet_CV_Prediction\": Enet_cv_predict.flatten()})  \n",
    "comp"
   ]
  },
  {
   "cell_type": "code",
   "execution_count": 135,
   "metadata": {},
   "outputs": [
    {
     "name": "stdout",
     "output_type": "stream",
     "text": [
      "MSE (Linear):  244.06139639308054\n",
      "MSE (Ridge):  237.97678835829402\n",
      "MSE (Ridge_CV):  242.33520316288107\n",
      "MSE (Lasso):  243.8669258843185\n",
      "MSE (Lasso_CV):  236.89250210582628\n",
      "MSE (ENet):  238.23275948106087\n",
      "MSE (ENet_CV):  255.79786310226123\n"
     ]
    }
   ],
   "source": [
    "print('MSE (Linear): ', mean_squared_error(Y_test,Lm_predication))\n",
    "print(\"MSE (Ridge): \", mean_squared_error(Y_test,Rg_predicted))\n",
    "print(\"MSE (Ridge_CV): \", mean_squared_error(Y_test,Ridge_CV_predication))\n",
    "print(\"MSE (Lasso): \", mean_squared_error(Y_test,ls_predication))\n",
    "print(\"MSE (Lasso_CV): \", mean_squared_error(Y_test,Lasso_cv_Predictation))\n",
    "print(\"MSE (ENet): \", mean_squared_error(Y_test,Enet_predication))\n",
    "print(\"MSE (ENet_CV): \", mean_squared_error(Y_test,Enet_cv_predict))"
   ]
  },
  {
   "cell_type": "markdown",
   "metadata": {},
   "source": [
    "## Feature Importance:"
   ]
  },
  {
   "cell_type": "code",
   "execution_count": 144,
   "metadata": {},
   "outputs": [
    {
     "data": {
      "text/plain": [
       "[0.0,\n",
       " 1.5016733960091022,\n",
       " 3.476018480449793,\n",
       " -17.64614910408908,\n",
       " -14.30882231875986,\n",
       " 46.98047936148428,\n",
       " -1.673006967961837]"
      ]
     },
     "execution_count": 144,
     "metadata": {},
     "output_type": "execute_result"
    }
   ],
   "source": [
    "linear_coeff = lm.coef_\n",
    "ridge_coeff = Ridge_CV.coef_\n",
    "lasso_coeff = ls.coef_\n",
    "\n",
    "linear_coeff_lst = linear_coeff.tolist()\n",
    "linear_coeff_lst[0]"
   ]
  },
  {
   "cell_type": "code",
   "execution_count": 146,
   "metadata": {},
   "outputs": [
    {
     "name": "stdout",
     "output_type": "stream",
     "text": [
      "Feature: 0, Score: 0.00000\n",
      "Feature: 1, Score: 1.50167\n",
      "Feature: 2, Score: 3.47602\n",
      "Feature: 3, Score: -17.64615\n",
      "Feature: 4, Score: -14.30882\n",
      "Feature: 5, Score: 46.98048\n",
      "Feature: 6, Score: -1.67301\n"
     ]
    },
    {
     "data": {
      "image/png": "[encoded data removed]",
      "text/plain": [
       "<Figure size 432x288 with 1 Axes>"
      ]
     },
     "metadata": {
      "needs_background": "light"
     },
     "output_type": "display_data"
    }
   ],
   "source": [
    "# get importance\n",
    "# summarize feature importance\n",
    "for i,v in enumerate(linear_coeff_lst[0]):\n",
    "    print('Feature: %0d, Score: %.5f' % (i,v))\n",
    "\n",
    "# plot feature importance\n",
    "plt.bar([x for x in range(len(linear_coeff_lst[0]))], linear_coeff_lst[0])\n",
    "plt.show()"
   ]
  },
  {
   "cell_type": "code",
   "execution_count": 147,
   "metadata": {},
   "outputs": [
    {
     "data": {
      "text/plain": [
       "[0.0,\n",
       " 1.4876774591748472,\n",
       " 3.467877392621631,\n",
       " -14.430452396231885,\n",
       " -11.69051106534107,\n",
       " 41.15408190791368,\n",
       " -1.673130450150893]"
      ]
     },
     "execution_count": 147,
     "metadata": {},
     "output_type": "execute_result"
    }
   ],
   "source": [
    "ridge_coeff = Ridge_CV.coef_\n",
    "\n",
    "ridge_coeff_lst = ridge_coeff.tolist()\n",
    "ridge_coeff_lst[0]"
   ]
  },
  {
   "cell_type": "code",
   "execution_count": 148,
   "metadata": {},
   "outputs": [
    {
     "name": "stdout",
     "output_type": "stream",
     "text": [
      "Feature: 0, Score: 0.00000\n",
      "Feature: 1, Score: 1.48768\n",
      "Feature: 2, Score: 3.46788\n",
      "Feature: 3, Score: -14.43045\n",
      "Feature: 4, Score: -11.69051\n",
      "Feature: 5, Score: 41.15408\n",
      "Feature: 6, Score: -1.67313\n"
     ]
    },
    {
     "data": {
      "image/png": "[encoded data removed]",
      "text/plain": [
       "<Figure size 432x288 with 1 Axes>"
      ]
     },
     "metadata": {
      "needs_background": "light"
     },
     "output_type": "display_data"
    }
   ],
   "source": [
    "# get importance\n",
    "# summarize feature importance\n",
    "for i,v in enumerate(ridge_coeff_lst[0]):\n",
    "    print('Feature: %0d, Score: %.5f' % (i,v))\n",
    "\n",
    "# plot feature importance\n",
    "plt.bar([x for x in range(len(ridge_coeff_lst[0]))], ridge_coeff_lst[0])\n",
    "plt.show()"
   ]
  },
  {
   "cell_type": "code",
   "execution_count": 150,
   "metadata": {},
   "outputs": [
    {
     "data": {
      "text/plain": [
       "[0.0,\n",
       " 0.0,\n",
       " 3.6762119979141126,\n",
       " 4.294816586410862,\n",
       " 2.3655741185919843,\n",
       " 8.16269854586886,\n",
       " -1.7721559525932145]"
      ]
     },
     "execution_count": 150,
     "metadata": {},
     "output_type": "execute_result"
    }
   ],
   "source": [
    "lasso_coeff = ls.coef_\n",
    "\n",
    "lasso_coeff_lst = lasso_coeff.tolist()\n",
    "lasso_coeff_lst"
   ]
  },
  {
   "cell_type": "code",
   "execution_count": 151,
   "metadata": {},
   "outputs": [
    {
     "name": "stdout",
     "output_type": "stream",
     "text": [
      "Feature: 0, Score: 0.00000\n",
      "Feature: 1, Score: 0.00000\n",
      "Feature: 2, Score: 3.67621\n",
      "Feature: 3, Score: 4.29482\n",
      "Feature: 4, Score: 2.36557\n",
      "Feature: 5, Score: 8.16270\n",
      "Feature: 6, Score: -1.77216\n"
     ]
    },
    {
     "data": {
      "image/png": "[encoded data removed]",
      "text/plain": [
       "<Figure size 432x288 with 1 Axes>"
      ]
     },
     "metadata": {
      "needs_background": "light"
     },
     "output_type": "display_data"
    }
   ],
   "source": [
    "# get importance\n",
    "# summarize feature importance\n",
    "for i,v in enumerate(lasso_coeff_lst):\n",
    "    print('Feature: %0d, Score: %.5f' % (i,v))\n",
    "\n",
    "# plot feature importance\n",
    "plt.bar([x for x in range(len(lasso_coeff_lst))], lasso_coeff_lst)\n",
    "plt.show()"
   ]
  },
  {
   "cell_type": "code",
   "execution_count": null,
   "metadata": {},
   "outputs": [],
   "source": []
  }
 ],
 "metadata": {
  "kernelspec": {
   "display_name": "Python 3",
   "language": "python",
   "name": "python3"
  },
  "language_info": {
   "codemirror_mode": {
    "name": "ipython",
    "version": 3
   },
   "file_extension": ".py",
   "mimetype": "text/x-python",
   "name": "python",
   "nbconvert_exporter": "python",
   "pygments_lexer": "ipython3",
   "version": "3.8.8"
  }
 },
 "nbformat": 4,
 "nbformat_minor": 4
}
